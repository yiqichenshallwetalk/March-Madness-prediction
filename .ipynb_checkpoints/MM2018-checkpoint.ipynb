{
 "cells": [
  {
   "cell_type": "code",
   "execution_count": 1,
   "metadata": {
    "_cell_guid": "b1076dfc-b9ad-4769-8c92-a6c4dae69d19",
    "_uuid": "8f2839f25d086af736a60e9eeb907d3b93b6e0e5"
   },
   "outputs": [
    {
     "name": "stdout",
     "output_type": "stream",
     "text": [
      "['NCAATourneyCompactResults.csv', 'NCAATourneyDetailedResults.csv', 'NCAATourneySeedRoundSlots.csv', 'NCAATourneySeeds.csv', 'NCAATourneySeeds_SampleTourney2018.csv', 'NCAATourneySlots.csv', 'NCAATourneySlots_SampleTourney2018.csv', 'NCAA_2018_Solution_Mens.csv', 'RegularSeasonDetailedResults.csv', 'RegularSeasonDetailedResults_Prelim2018.csv', 'Seasons.csv', 'Teams.csv']\n"
     ]
    }
   ],
   "source": [
    "import numpy as np # linear algebra\n",
    "import pandas as pd # data processing, CSV file I/O (e.g. pd.read_csv)\n",
    "\n",
    "import os\n",
    "print(os.listdir(\"data\"))\n"
   ]
  },
  {
   "cell_type": "markdown",
   "metadata": {},
   "source": [
    "Import neccessary libraries and packages"
   ]
  },
  {
   "cell_type": "code",
   "execution_count": 2,
   "metadata": {
    "_cell_guid": "79c7e3d0-c299-4dcb-8224-4455121ee9b0",
    "_uuid": "d629ff2d2480ee46fbb7e2d37f6b5fab8052498a",
    "collapsed": true
   },
   "outputs": [],
   "source": [
    "import matplotlib.pyplot as plt\n",
    "%matplotlib inline\n",
    "import random\n",
    "from sklearn.linear_model import LogisticRegression\n",
    "from sklearn.model_selection import train_test_split,cross_val_score"
   ]
  },
  {
   "cell_type": "markdown",
   "metadata": {},
   "source": [
    "Load previous results from regular seasons and NCAA tournaments."
   ]
  },
  {
   "cell_type": "code",
   "execution_count": 3,
   "metadata": {
    "_uuid": "5cecce3157bf5c985141855ab4aa79678fb44f54",
    "collapsed": true
   },
   "outputs": [],
   "source": [
    "dr_reg = pd.read_csv(\"data/RegularSeasonDetailedResults_Prelim2018.csv\")\n",
    "dr_tour = pd.read_csv(\"data/NCAATourneyDetailedResults.csv\")\n",
    "df_team = pd.read_csv(\"data/Teams.csv\")\n",
    "dr= pd.concat((dr_reg, dr_tour), ignore_index=True)"
   ]
  },
  {
   "cell_type": "markdown",
   "metadata": {},
   "source": [
    "Add some engineered features: field goal %, 3 pointer %, free throw % and assist/(assist+turnover) % for both winner and loser."
   ]
  },
  {
   "cell_type": "code",
   "execution_count": 4,
   "metadata": {
    "_uuid": "118de4590961020517cd558006549e06f8e81ff9",
    "collapsed": true
   },
   "outputs": [],
   "source": [
    "dr = dr.assign(WFGP = dr.WFGM/dr.WFGA*100)\n",
    "dr = dr.assign(WFGP3 = dr.WFGM3/dr.WFGA3*100)\n",
    "dr = dr.assign(LFGP = dr.LFGM/dr.LFGA*100)\n",
    "dr = dr.assign(LFGP3 = dr.LFGM3/dr.LFGA3*100)\n",
    "dr = dr.assign(LFTP = dr.LFTM/dr.LFTA*100)\n",
    "dr = dr.assign(WFTP = dr.WFTM/dr.WFTA*100)\n",
    "dr = dr.assign(LATOP = dr.LAst/(dr.LAst+dr.LTO)*100)\n",
    "dr = dr.assign(WATOP = dr.WAst/(dr.WAst+dr.WTO)*100)\n",
    "dr.fillna(value=0.0,inplace=True)\n",
    "# Sort with time\n",
    "dr.sort_values(by=['Season','DayNum'],inplace=True)"
   ]
  },
  {
   "cell_type": "markdown",
   "metadata": {},
   "source": [
    "Look at the histograms of the above features."
   ]
  },
  {
   "cell_type": "code",
   "execution_count": 5,
   "metadata": {
    "_uuid": "be12b21f8dc3e63e7894a2c632df021d7646850b"
   },
   "outputs": [
    {
     "data": {
      "text/plain": [
       "Text(0.5,0,'field goal %')"
      ]
     },
     "execution_count": 5,
     "metadata": {},
     "output_type": "execute_result"
    },
    {
     "data": {
      "image/png": "[encoded data removed]",
      "text/plain": [
       "<matplotlib.figure.Figure at 0x18b59438828>"
      ]
     },
     "metadata": {},
     "output_type": "display_data"
    }
   ],
   "source": [
    "(hist_Wfg,bins_fg) = plt.hist(dr.WFGP,bins=100,range=(min(dr.LFGP),max(dr.WFGP)))[:-1]\n",
    "hist_Lfg = plt.hist(dr.LFGP,bins=100,range=(min(dr.LFGP),max(dr.WFGP)))[0]\n",
    "plt.xlabel('field goal %')"
   ]
  },
  {
   "cell_type": "code",
   "execution_count": 6,
   "metadata": {
    "_uuid": "670987bcf36dbf3f7fe492a2be3bf5cf2570eaa1"
   },
   "outputs": [
    {
     "data": {
      "text/plain": [
       "Text(0.5,0,'3 pointer %')"
      ]
     },
     "execution_count": 6,
     "metadata": {},
     "output_type": "execute_result"
    },
    {
     "data": {
      "image/png": "[encoded data removed]",
      "text/plain": [
       "<matplotlib.figure.Figure at 0x18b59c6dc18>"
      ]
     },
     "metadata": {},
     "output_type": "display_data"
    }
   ],
   "source": [
    "(hist_Wfg3,bins_fg3) = plt.hist(dr.WFGP3,bins=100,range=(min(list(dr.LFGP3)+list(dr.WFGP3)),max(list(dr.LFGP3)+list(dr.WFGP3))))[:-1]\n",
    "hist_Lfg3 = plt.hist(dr.LFGP3,bins=100,range=(min(list(dr.LFGP3)+list(dr.WFGP3)),max(list(dr.LFGP3)+list(dr.WFGP3))))[0]\n",
    "plt.xlabel('3 pointer %')"
   ]
  },
  {
   "cell_type": "code",
   "execution_count": 7,
   "metadata": {
    "_uuid": "ec43111eae17ec9adde5ec29f5355e3419fa6233"
   },
   "outputs": [
    {
     "data": {
      "text/plain": [
       "Text(0.5,0,'free throw %')"
      ]
     },
     "execution_count": 7,
     "metadata": {},
     "output_type": "execute_result"
    },
    {
     "data": {
      "image/png": "[encoded data removed]",
      "text/plain": [
       "<matplotlib.figure.Figure at 0x18b5938b908>"
      ]
     },
     "metadata": {},
     "output_type": "display_data"
    }
   ],
   "source": [
    "(hist_Wft,bins_ft) = plt.hist(dr.WFTP,bins=100,range=(min(list(dr.LFTP)+list(dr.WFTP)),max(list(dr.LFTP)+list(dr.WFTP))))[:-1]\n",
    "hist_Lft = plt.hist(dr.LFTP,bins=100,range=(min(list(dr.LFTP)+list(dr.WFTP)),max(list(dr.LFTP)+list(dr.WFTP))))[0]\n",
    "plt.xlabel('free throw %')"
   ]
  },
  {
   "cell_type": "code",
   "execution_count": 8,
   "metadata": {
    "_uuid": "c00f0b42f0703726a584eab8d88682eb05c01d4c"
   },
   "outputs": [
    {
     "data": {
      "image/png": "[encoded data removed]",
      "text/plain": [
       "<matplotlib.figure.Figure at 0x18b5a3e4e48>"
      ]
     },
     "metadata": {},
     "output_type": "display_data"
    }
   ],
   "source": [
    "(hist_Watop,bins_atop) = plt.hist(dr.WATOP,bins=100,range=(min(list(dr.LATOP)+list(dr.WATOP)),max(list(dr.LATOP)+list(dr.WATOP))))[:-1]\n",
    "hist_Latop = plt.hist(dr.LATOP,bins=100,range=(min(list(dr.LATOP)+list(dr.WATOP)),max(list(dr.LATOP)+list(dr.WATOP))))[0]"
   ]
  },
  {
   "cell_type": "markdown",
   "metadata": {},
   "source": [
    "Then look at the winning percentage as a function of the above features."
   ]
  },
  {
   "cell_type": "code",
   "execution_count": 9,
   "metadata": {
    "_uuid": "3a640a13a86d64f6e818340583420e69b1ce9d5b"
   },
   "outputs": [
    {
     "name": "stderr",
     "output_type": "stream",
     "text": [
      "C:\\Users\\yiqichen\\UB\\Anaconda3\\lib\\site-packages\\ipykernel_launcher.py:1: RuntimeWarning: invalid value encountered in true_divide\n",
      "  \"\"\"Entry point for launching an IPython kernel.\n",
      "C:\\Users\\yiqichen\\UB\\Anaconda3\\lib\\site-packages\\ipykernel_launcher.py:2: RuntimeWarning: invalid value encountered in true_divide\n",
      "  \n",
      "C:\\Users\\yiqichen\\UB\\Anaconda3\\lib\\site-packages\\ipykernel_launcher.py:3: RuntimeWarning: invalid value encountered in true_divide\n",
      "  This is separate from the ipykernel package so we can avoid doing imports until\n",
      "C:\\Users\\yiqichen\\UB\\Anaconda3\\lib\\site-packages\\ipykernel_launcher.py:4: RuntimeWarning: invalid value encountered in true_divide\n",
      "  after removing the cwd from sys.path.\n"
     ]
    }
   ],
   "source": [
    "prob_Wfg = hist_Wfg/(hist_Wfg+hist_Lfg)\n",
    "prob_Wfg3 = hist_Wfg3/(hist_Wfg3+hist_Lfg3)\n",
    "prob_Wft = hist_Wft/(hist_Wft+hist_Lft)\n",
    "prob_Wato = hist_Watop/(hist_Watop+hist_Latop)"
   ]
  },
  {
   "cell_type": "code",
   "execution_count": 10,
   "metadata": {
    "_uuid": "f919a1d29c7799a5c321fd583fd6a5e2733d1daa"
   },
   "outputs": [
    {
     "data": {
      "image/png": "[encoded data removed]",
      "text/plain": [
       "<matplotlib.figure.Figure at 0x18b5a460ba8>"
      ]
     },
     "metadata": {},
     "output_type": "display_data"
    }
   ],
   "source": [
    "plt.figure(1)\n",
    "plt.subplot(221)\n",
    "plt.plot(bins_fg[:-1],prob_Wfg,'.')\n",
    "plt.xlabel('field goal %')\n",
    "plt.ylabel('winning %')\n",
    "\n",
    "plt.subplot(222)\n",
    "plt.plot(bins_fg3[:-1],prob_Wfg3,'.')\n",
    "plt.xlabel('3 point %')\n",
    "\n",
    "plt.subplot(223)\n",
    "plt.plot(bins_ft[:-1],prob_Wft,'.')\n",
    "plt.xlabel('free throw %')\n",
    "plt.ylabel('winning %')\n",
    "\n",
    "plt.subplot(224)\n",
    "plt.plot(bins_atop[:-1],prob_Wato,'.')\n",
    "plt.xlabel('ass/to %')\n",
    "\n",
    "plt.tight_layout()"
   ]
  },
  {
   "cell_type": "markdown",
   "metadata": {},
   "source": [
    "No surprise, filed goal, 3 point, free throw percentages and assist to turnover ratio are pretty important to winning. Next we take a look at the best teams since 2003."
   ]
  },
  {
   "cell_type": "code",
   "execution_count": 11,
   "metadata": {
    "_uuid": "cd01dd6ce5148fc798cfff9f244701059223bc0b",
    "collapsed": true
   },
   "outputs": [],
   "source": [
    "df_wins = dr.groupby('WTeamID').size().reset_index()\n",
    "df_wins = df_wins.rename(index=str, columns={\"WTeamID\": \"TeamID\",0:'Wins'})\n",
    "\n",
    "df_loss = dr.groupby('LTeamID').size().reset_index()\n",
    "df_loss=df_loss.rename(index=str, columns={\"LTeamID\": \"TeamID\",0:'Loss'})"
   ]
  },
  {
   "cell_type": "code",
   "execution_count": 12,
   "metadata": {
    "_uuid": "5620540127ae26041b118320b535bd7018df1319",
    "collapsed": true
   },
   "outputs": [],
   "source": [
    "df_percent = df_wins['Wins']/(df_wins['Wins']+df_loss['Loss'])*100\n",
    "df_percent = df_percent.to_frame()\n",
    "df_percent['TeamID'] = df_wins['TeamID']\n",
    "df_percent=df_percent.rename(index=str, columns={0:'Win %'})"
   ]
  },
  {
   "cell_type": "code",
   "execution_count": 13,
   "metadata": {
    "_uuid": "4eb8a4d0ec6cd7f7c8e7ff83796f4c451891db8b"
   },
   "outputs": [
    {
     "data": {
      "text/html": [
       "<div>\n",
       "<style>\n",
       "    .dataframe thead tr:only-child th {\n",
       "        text-align: right;\n",
       "    }\n",
       "\n",
       "    .dataframe thead th {\n",
       "        text-align: left;\n",
       "    }\n",
       "\n",
       "    .dataframe tbody tr th {\n",
       "        vertical-align: top;\n",
       "    }\n",
       "</style>\n",
       "<table border=\"1\" class=\"dataframe\">\n",
       "  <thead>\n",
       "    <tr style=\"text-align: right;\">\n",
       "      <th></th>\n",
       "      <th>TeamID</th>\n",
       "      <th>TeamName</th>\n",
       "      <th>FirstD1Season</th>\n",
       "      <th>LastD1Season</th>\n",
       "      <th>Wins</th>\n",
       "      <th>Loss</th>\n",
       "      <th>Win %</th>\n",
       "    </tr>\n",
       "  </thead>\n",
       "  <tbody>\n",
       "    <tr>\n",
       "      <th>106</th>\n",
       "      <td>1211</td>\n",
       "      <td>Gonzaga</td>\n",
       "      <td>1985</td>\n",
       "      <td>2018</td>\n",
       "      <td>441</td>\n",
       "      <td>97</td>\n",
       "      <td>81.970260</td>\n",
       "    </tr>\n",
       "    <tr>\n",
       "      <th>136</th>\n",
       "      <td>1242</td>\n",
       "      <td>Kansas</td>\n",
       "      <td>1985</td>\n",
       "      <td>2018</td>\n",
       "      <td>462</td>\n",
       "      <td>102</td>\n",
       "      <td>81.914894</td>\n",
       "    </tr>\n",
       "    <tr>\n",
       "      <th>76</th>\n",
       "      <td>1181</td>\n",
       "      <td>Duke</td>\n",
       "      <td>1985</td>\n",
       "      <td>2018</td>\n",
       "      <td>457</td>\n",
       "      <td>108</td>\n",
       "      <td>80.884956</td>\n",
       "    </tr>\n",
       "    <tr>\n",
       "      <th>140</th>\n",
       "      <td>1246</td>\n",
       "      <td>Kentucky</td>\n",
       "      <td>1985</td>\n",
       "      <td>2018</td>\n",
       "      <td>437</td>\n",
       "      <td>127</td>\n",
       "      <td>77.482270</td>\n",
       "    </tr>\n",
       "    <tr>\n",
       "      <th>207</th>\n",
       "      <td>1314</td>\n",
       "      <td>North Carolina</td>\n",
       "      <td>1985</td>\n",
       "      <td>2018</td>\n",
       "      <td>430</td>\n",
       "      <td>136</td>\n",
       "      <td>75.971731</td>\n",
       "    </tr>\n",
       "    <tr>\n",
       "      <th>151</th>\n",
       "      <td>1257</td>\n",
       "      <td>Louisville</td>\n",
       "      <td>1985</td>\n",
       "      <td>2018</td>\n",
       "      <td>409</td>\n",
       "      <td>139</td>\n",
       "      <td>74.635036</td>\n",
       "    </tr>\n",
       "    <tr>\n",
       "      <th>166</th>\n",
       "      <td>1272</td>\n",
       "      <td>Memphis</td>\n",
       "      <td>1985</td>\n",
       "      <td>2018</td>\n",
       "      <td>402</td>\n",
       "      <td>140</td>\n",
       "      <td>74.169742</td>\n",
       "    </tr>\n",
       "    <tr>\n",
       "      <th>10</th>\n",
       "      <td>1112</td>\n",
       "      <td>Arizona</td>\n",
       "      <td>1985</td>\n",
       "      <td>2018</td>\n",
       "      <td>399</td>\n",
       "      <td>145</td>\n",
       "      <td>73.345588</td>\n",
       "    </tr>\n",
       "    <tr>\n",
       "      <th>285</th>\n",
       "      <td>1393</td>\n",
       "      <td>Syracuse</td>\n",
       "      <td>1985</td>\n",
       "      <td>2018</td>\n",
       "      <td>397</td>\n",
       "      <td>148</td>\n",
       "      <td>72.844037</td>\n",
       "    </tr>\n",
       "    <tr>\n",
       "      <th>348</th>\n",
       "      <td>1458</td>\n",
       "      <td>Wisconsin</td>\n",
       "      <td>1985</td>\n",
       "      <td>2018</td>\n",
       "      <td>401</td>\n",
       "      <td>151</td>\n",
       "      <td>72.644928</td>\n",
       "    </tr>\n",
       "  </tbody>\n",
       "</table>\n",
       "</div>"
      ],
      "text/plain": [
       "     TeamID        TeamName  FirstD1Season  LastD1Season  Wins  Loss  \\\n",
       "106    1211         Gonzaga           1985          2018   441    97   \n",
       "136    1242          Kansas           1985          2018   462   102   \n",
       "76     1181            Duke           1985          2018   457   108   \n",
       "140    1246        Kentucky           1985          2018   437   127   \n",
       "207    1314  North Carolina           1985          2018   430   136   \n",
       "151    1257      Louisville           1985          2018   409   139   \n",
       "166    1272         Memphis           1985          2018   402   140   \n",
       "10     1112         Arizona           1985          2018   399   145   \n",
       "285    1393        Syracuse           1985          2018   397   148   \n",
       "348    1458       Wisconsin           1985          2018   401   151   \n",
       "\n",
       "         Win %  \n",
       "106  81.970260  \n",
       "136  81.914894  \n",
       "76   80.884956  \n",
       "140  77.482270  \n",
       "207  75.971731  \n",
       "151  74.635036  \n",
       "166  74.169742  \n",
       "10   73.345588  \n",
       "285  72.844037  \n",
       "348  72.644928  "
      ]
     },
     "execution_count": 13,
     "metadata": {},
     "output_type": "execute_result"
    }
   ],
   "source": [
    "df_win = df_team.merge(df_wins,on='TeamID').merge(df_loss,on='TeamID').merge(df_percent,on='TeamID').sort_values(by='Win %',ascending=False)\n",
    "df_win[:10]"
   ]
  },
  {
   "cell_type": "markdown",
   "metadata": {
    "_uuid": "51e853fe347c89c9108260553dc9ff2aceffe6eb"
   },
   "source": [
    "Gonzaga, Kansas and Duke are the top 3 in winning percentage.\n",
    " \n",
    " Now we are gonna use a new feature called the Elo rating. It is invented by Arpad Elo and it's used for reflecting the strength teams. Reference: https://en.wikipedia.org/wiki/Elo_rating_system A base value of 1500 and width of 400 is used."
   ]
  },
  {
   "cell_type": "code",
   "execution_count": 14,
   "metadata": {
    "_uuid": "9011ea3bfeeac9413eb613c7d284d5f288d2a763",
    "collapsed": true
   },
   "outputs": [],
   "source": [
    "base_elo = 1500\n",
    "elo_width = 400"
   ]
  },
  {
   "cell_type": "code",
   "execution_count": 15,
   "metadata": {
    "_uuid": "6b49fd0fcee440748cf41afc4f4698c3493145fe",
    "collapsed": true
   },
   "outputs": [],
   "source": [
    "# Define functions to calculate elo rating and the mean season stats. \n",
    "def cal_elo(win_elo_before, lose_elo_before):\n",
    "    expect_a = 1.0/(1+10**((lose_elo_before - win_elo_before)/elo_width))\n",
    "    # Change k factor for different rating range so that high ratings will not be too sensitive to recent results.\n",
    "    if win_elo_before < 2400:\n",
    "        k_factor = 32\n",
    "    else:\n",
    "        k_factor = 24\n",
    "    win_elo_after = round(win_elo_before + (k_factor * (1 - expect_a)))\n",
    "    diff_elo = win_elo_after-win_elo_before\n",
    "    lose_elo_after = lose_elo_before-diff_elo\n",
    "    return win_elo_after, lose_elo_after\n",
    "\n",
    "def update_stats(season,team,stat,value):\n",
    "    if team not in season_stat[season]:\n",
    "        season_stat[season][team] = {}\n",
    "    if stat not in season_stat[season][team]:\n",
    "        season_stat[season][team][stat] = [value]\n",
    "    else:\n",
    "        season_stat[season][team][stat].append(value)"
   ]
  },
  {
   "cell_type": "code",
   "execution_count": 16,
   "metadata": {
    "_uuid": "5132b22594a258aeecbb317a8be03a567c99b526",
    "collapsed": true
   },
   "outputs": [],
   "source": [
    "x=[]\n",
    "y=[]\n",
    "season_stat = {}\n",
    "df_team['Elo'] = base_elo\n",
    "current_season = dr.at[0, 'Season']\n",
    "season_stat[current_season] = {}\n",
    "features = ['FGP','FGA','FGP3','FGA3','FTP','FTA','ATOP','OR','DR','Stl','Blk']\n",
    "#Use 11 basketball stats plus elo rating to train"
   ]
  },
  {
   "cell_type": "code",
   "execution_count": 17,
   "metadata": {
    "_uuid": "5d1400c1040bbd14e910c94e027b971efc74dca1",
    "collapsed": true
   },
   "outputs": [],
   "source": [
    "for index, row in dr.iterrows():\n",
    "    if row['Season'] != current_season:\n",
    "        \"\"\"After each season, regress toward the base rating to make ratings more close \n",
    "        at the begining of next season\n",
    "        \"\"\"\n",
    "        df_team['Elo'] -= (df_team['Elo']-base_elo)/3\n",
    "        current_season = row['Season']\n",
    "        season_stat[current_season] = {}\n",
    "    # Calculate and update elo for Wteam and Lteam\n",
    "    win_team = row['WTeamID']\n",
    "    lose_team = row['LTeamID']\n",
    "    win_elo_before = df_team.at[win_team-1101,'Elo']\n",
    "    lose_elo_before = df_team.at[lose_team-1101,'Elo']\n",
    "    win_elo,lose_elo = cal_elo(win_elo_before, lose_elo_before) \n",
    "    df_team.at[win_team-1101,'Elo'] = win_elo\n",
    "    df_team.at[lose_team-1101,'Elo'] = lose_elo\n",
    "    # Give extra 100 elo rating to the home team\n",
    "    if row.WLoc == 'H':\n",
    "        win_elo_before += 100\n",
    "    elif row.WLoc == 'A':\n",
    "        lose_elo_before += 100\n",
    "    # Collect training data as the diff of features from the winner and loser.\n",
    "    x_temp = [win_elo_before-lose_elo_before]\n",
    "    skip = False\n",
    "    for feature in features:\n",
    "        try:\n",
    "            W_value = np.mean(season_stat[current_season][win_team][feature])\n",
    "            L_value = np.mean(season_stat[current_season][lose_team][feature])\n",
    "            x_temp.append(W_value-L_value)\n",
    "        except:\n",
    "            skip = True\n",
    "        # Update stats for this current season\n",
    "        update_stats(current_season,win_team,feature,row['W'+feature])\n",
    "        update_stats(current_season,lose_team,feature,row['L'+feature])\n",
    "    # If the two teams have played at least one game in the season, we collect their average stats\n",
    "    if not skip:\n",
    "        # Randomly flip the winning and losing team\n",
    "        if random.random() > 0.5:\n",
    "            x.append(x_temp)\n",
    "            y.append(1)    \n",
    "        else:\n",
    "            x.append(list(-np.array(x_temp)))\n",
    "            y.append(0)                "
   ]
  },
  {
   "cell_type": "markdown",
   "metadata": {
    "_uuid": "9d7cafba74aca4c9585c4247d53864f8274caa28"
   },
   "source": [
    "Now let's look at the teams with the highest elo ratings. The 2018 champions Vilanova is at second place and Virginia is the top team."
   ]
  },
  {
   "cell_type": "code",
   "execution_count": 18,
   "metadata": {
    "_uuid": "e4e771ae4b0f428bd63f8f6e1ef6bcb832e56d18"
   },
   "outputs": [
    {
     "data": {
      "text/html": [
       "<div>\n",
       "<style>\n",
       "    .dataframe thead tr:only-child th {\n",
       "        text-align: right;\n",
       "    }\n",
       "\n",
       "    .dataframe thead th {\n",
       "        text-align: left;\n",
       "    }\n",
       "\n",
       "    .dataframe tbody tr th {\n",
       "        vertical-align: top;\n",
       "    }\n",
       "</style>\n",
       "<table border=\"1\" class=\"dataframe\">\n",
       "  <thead>\n",
       "    <tr style=\"text-align: right;\">\n",
       "      <th></th>\n",
       "      <th>TeamID</th>\n",
       "      <th>TeamName</th>\n",
       "      <th>FirstD1Season</th>\n",
       "      <th>LastD1Season</th>\n",
       "      <th>Elo</th>\n",
       "    </tr>\n",
       "  </thead>\n",
       "  <tbody>\n",
       "    <tr>\n",
       "      <th>337</th>\n",
       "      <td>1438</td>\n",
       "      <td>Virginia</td>\n",
       "      <td>1985</td>\n",
       "      <td>2018</td>\n",
       "      <td>1873.000000</td>\n",
       "    </tr>\n",
       "    <tr>\n",
       "      <th>336</th>\n",
       "      <td>1437</td>\n",
       "      <td>Villanova</td>\n",
       "      <td>1985</td>\n",
       "      <td>2018</td>\n",
       "      <td>1869.000000</td>\n",
       "    </tr>\n",
       "    <tr>\n",
       "      <th>361</th>\n",
       "      <td>1462</td>\n",
       "      <td>Xavier</td>\n",
       "      <td>1985</td>\n",
       "      <td>2018</td>\n",
       "      <td>1842.000000</td>\n",
       "    </tr>\n",
       "    <tr>\n",
       "      <th>176</th>\n",
       "      <td>1277</td>\n",
       "      <td>Michigan St</td>\n",
       "      <td>1985</td>\n",
       "      <td>2018</td>\n",
       "      <td>1830.000000</td>\n",
       "    </tr>\n",
       "    <tr>\n",
       "      <th>110</th>\n",
       "      <td>1211</td>\n",
       "      <td>Gonzaga</td>\n",
       "      <td>1985</td>\n",
       "      <td>2018</td>\n",
       "      <td>1830.000000</td>\n",
       "    </tr>\n",
       "    <tr>\n",
       "      <th>141</th>\n",
       "      <td>1242</td>\n",
       "      <td>Kansas</td>\n",
       "      <td>1985</td>\n",
       "      <td>2018</td>\n",
       "      <td>1819.000000</td>\n",
       "    </tr>\n",
       "    <tr>\n",
       "      <th>213</th>\n",
       "      <td>1314</td>\n",
       "      <td>North Carolina</td>\n",
       "      <td>1985</td>\n",
       "      <td>2018</td>\n",
       "      <td>1817.000000</td>\n",
       "    </tr>\n",
       "    <tr>\n",
       "      <th>244</th>\n",
       "      <td>1345</td>\n",
       "      <td>Purdue</td>\n",
       "      <td>1985</td>\n",
       "      <td>2018</td>\n",
       "      <td>1807.000000</td>\n",
       "    </tr>\n",
       "    <tr>\n",
       "      <th>11</th>\n",
       "      <td>1112</td>\n",
       "      <td>Arizona</td>\n",
       "      <td>1985</td>\n",
       "      <td>2018</td>\n",
       "      <td>1806.000000</td>\n",
       "    </tr>\n",
       "    <tr>\n",
       "      <th>80</th>\n",
       "      <td>1181</td>\n",
       "      <td>Duke</td>\n",
       "      <td>1985</td>\n",
       "      <td>2018</td>\n",
       "      <td>1802.000000</td>\n",
       "    </tr>\n",
       "    <tr>\n",
       "      <th>52</th>\n",
       "      <td>1153</td>\n",
       "      <td>Cincinnati</td>\n",
       "      <td>1985</td>\n",
       "      <td>2018</td>\n",
       "      <td>1800.000000</td>\n",
       "    </tr>\n",
       "    <tr>\n",
       "      <th>354</th>\n",
       "      <td>1455</td>\n",
       "      <td>Wichita St</td>\n",
       "      <td>1985</td>\n",
       "      <td>2018</td>\n",
       "      <td>1794.000000</td>\n",
       "    </tr>\n",
       "    <tr>\n",
       "      <th>247</th>\n",
       "      <td>1348</td>\n",
       "      <td>Rhode Island</td>\n",
       "      <td>1985</td>\n",
       "      <td>2018</td>\n",
       "      <td>1783.000000</td>\n",
       "    </tr>\n",
       "    <tr>\n",
       "      <th>287</th>\n",
       "      <td>1388</td>\n",
       "      <td>St Mary's CA</td>\n",
       "      <td>1985</td>\n",
       "      <td>2018</td>\n",
       "      <td>1780.000000</td>\n",
       "    </tr>\n",
       "    <tr>\n",
       "      <th>175</th>\n",
       "      <td>1276</td>\n",
       "      <td>Michigan</td>\n",
       "      <td>1985</td>\n",
       "      <td>2018</td>\n",
       "      <td>1767.000000</td>\n",
       "    </tr>\n",
       "    <tr>\n",
       "      <th>19</th>\n",
       "      <td>1120</td>\n",
       "      <td>Auburn</td>\n",
       "      <td>1985</td>\n",
       "      <td>2018</td>\n",
       "      <td>1755.000000</td>\n",
       "    </tr>\n",
       "    <tr>\n",
       "      <th>204</th>\n",
       "      <td>1305</td>\n",
       "      <td>Nevada</td>\n",
       "      <td>1985</td>\n",
       "      <td>2018</td>\n",
       "      <td>1751.000000</td>\n",
       "    </tr>\n",
       "    <tr>\n",
       "      <th>145</th>\n",
       "      <td>1246</td>\n",
       "      <td>Kentucky</td>\n",
       "      <td>1985</td>\n",
       "      <td>2018</td>\n",
       "      <td>1749.000000</td>\n",
       "    </tr>\n",
       "    <tr>\n",
       "      <th>351</th>\n",
       "      <td>1452</td>\n",
       "      <td>West Virginia</td>\n",
       "      <td>1985</td>\n",
       "      <td>2018</td>\n",
       "      <td>1743.000000</td>\n",
       "    </tr>\n",
       "    <tr>\n",
       "      <th>191</th>\n",
       "      <td>1292</td>\n",
       "      <td>MTSU</td>\n",
       "      <td>1985</td>\n",
       "      <td>2018</td>\n",
       "      <td>1741.000000</td>\n",
       "    </tr>\n",
       "    <tr>\n",
       "      <th>225</th>\n",
       "      <td>1326</td>\n",
       "      <td>Ohio St</td>\n",
       "      <td>1985</td>\n",
       "      <td>2018</td>\n",
       "      <td>1732.000000</td>\n",
       "    </tr>\n",
       "    <tr>\n",
       "      <th>338</th>\n",
       "      <td>1439</td>\n",
       "      <td>Virginia Tech</td>\n",
       "      <td>1985</td>\n",
       "      <td>2018</td>\n",
       "      <td>1731.000000</td>\n",
       "    </tr>\n",
       "    <tr>\n",
       "      <th>302</th>\n",
       "      <td>1403</td>\n",
       "      <td>Texas Tech</td>\n",
       "      <td>1985</td>\n",
       "      <td>2018</td>\n",
       "      <td>1729.000000</td>\n",
       "    </tr>\n",
       "    <tr>\n",
       "      <th>316</th>\n",
       "      <td>1417</td>\n",
       "      <td>UCLA</td>\n",
       "      <td>1985</td>\n",
       "      <td>2018</td>\n",
       "      <td>1727.000000</td>\n",
       "    </tr>\n",
       "    <tr>\n",
       "      <th>142</th>\n",
       "      <td>1243</td>\n",
       "      <td>Kansas St</td>\n",
       "      <td>1985</td>\n",
       "      <td>2018</td>\n",
       "      <td>1726.000000</td>\n",
       "    </tr>\n",
       "    <tr>\n",
       "      <th>296</th>\n",
       "      <td>1397</td>\n",
       "      <td>Tennessee</td>\n",
       "      <td>1985</td>\n",
       "      <td>2018</td>\n",
       "      <td>1722.000000</td>\n",
       "    </tr>\n",
       "    <tr>\n",
       "      <th>324</th>\n",
       "      <td>1425</td>\n",
       "      <td>USC</td>\n",
       "      <td>1985</td>\n",
       "      <td>2018</td>\n",
       "      <td>1722.000000</td>\n",
       "    </tr>\n",
       "    <tr>\n",
       "      <th>98</th>\n",
       "      <td>1199</td>\n",
       "      <td>Florida St</td>\n",
       "      <td>1985</td>\n",
       "      <td>2018</td>\n",
       "      <td>1720.000000</td>\n",
       "    </tr>\n",
       "    <tr>\n",
       "      <th>121</th>\n",
       "      <td>1222</td>\n",
       "      <td>Houston</td>\n",
       "      <td>1985</td>\n",
       "      <td>2018</td>\n",
       "      <td>1719.000000</td>\n",
       "    </tr>\n",
       "    <tr>\n",
       "      <th>281</th>\n",
       "      <td>1382</td>\n",
       "      <td>St Bonaventure</td>\n",
       "      <td>1985</td>\n",
       "      <td>2018</td>\n",
       "      <td>1716.000000</td>\n",
       "    </tr>\n",
       "    <tr>\n",
       "      <th>...</th>\n",
       "      <td>...</td>\n",
       "      <td>...</td>\n",
       "      <td>...</td>\n",
       "      <td>...</td>\n",
       "      <td>...</td>\n",
       "    </tr>\n",
       "    <tr>\n",
       "      <th>26</th>\n",
       "      <td>1127</td>\n",
       "      <td>Binghamton</td>\n",
       "      <td>2002</td>\n",
       "      <td>2018</td>\n",
       "      <td>1297.000000</td>\n",
       "    </tr>\n",
       "    <tr>\n",
       "      <th>7</th>\n",
       "      <td>1108</td>\n",
       "      <td>Alcorn St</td>\n",
       "      <td>1985</td>\n",
       "      <td>2018</td>\n",
       "      <td>1292.000000</td>\n",
       "    </tr>\n",
       "    <tr>\n",
       "      <th>290</th>\n",
       "      <td>1391</td>\n",
       "      <td>Stetson</td>\n",
       "      <td>1985</td>\n",
       "      <td>2018</td>\n",
       "      <td>1286.000000</td>\n",
       "    </tr>\n",
       "    <tr>\n",
       "      <th>164</th>\n",
       "      <td>1265</td>\n",
       "      <td>Marist</td>\n",
       "      <td>1985</td>\n",
       "      <td>2018</td>\n",
       "      <td>1286.000000</td>\n",
       "    </tr>\n",
       "    <tr>\n",
       "      <th>339</th>\n",
       "      <td>1440</td>\n",
       "      <td>VMI</td>\n",
       "      <td>1985</td>\n",
       "      <td>2018</td>\n",
       "      <td>1285.000000</td>\n",
       "    </tr>\n",
       "    <tr>\n",
       "      <th>49</th>\n",
       "      <td>1150</td>\n",
       "      <td>Charlotte</td>\n",
       "      <td>1985</td>\n",
       "      <td>2018</td>\n",
       "      <td>1282.123251</td>\n",
       "    </tr>\n",
       "    <tr>\n",
       "      <th>253</th>\n",
       "      <td>1354</td>\n",
       "      <td>S Carolina St</td>\n",
       "      <td>1985</td>\n",
       "      <td>2018</td>\n",
       "      <td>1282.000000</td>\n",
       "    </tr>\n",
       "    <tr>\n",
       "      <th>122</th>\n",
       "      <td>1223</td>\n",
       "      <td>Houston Bap</td>\n",
       "      <td>1985</td>\n",
       "      <td>2018</td>\n",
       "      <td>1281.000000</td>\n",
       "    </tr>\n",
       "    <tr>\n",
       "      <th>69</th>\n",
       "      <td>1170</td>\n",
       "      <td>CS Sacramento</td>\n",
       "      <td>1992</td>\n",
       "      <td>2018</td>\n",
       "      <td>1276.000000</td>\n",
       "    </tr>\n",
       "    <tr>\n",
       "      <th>262</th>\n",
       "      <td>1363</td>\n",
       "      <td>San Jose St</td>\n",
       "      <td>1985</td>\n",
       "      <td>2018</td>\n",
       "      <td>1273.000000</td>\n",
       "    </tr>\n",
       "    <tr>\n",
       "      <th>5</th>\n",
       "      <td>1106</td>\n",
       "      <td>Alabama St</td>\n",
       "      <td>1985</td>\n",
       "      <td>2018</td>\n",
       "      <td>1271.000000</td>\n",
       "    </tr>\n",
       "    <tr>\n",
       "      <th>241</th>\n",
       "      <td>1342</td>\n",
       "      <td>Presbyterian</td>\n",
       "      <td>2008</td>\n",
       "      <td>2018</td>\n",
       "      <td>1265.382716</td>\n",
       "    </tr>\n",
       "    <tr>\n",
       "      <th>9</th>\n",
       "      <td>1110</td>\n",
       "      <td>American Univ</td>\n",
       "      <td>1985</td>\n",
       "      <td>2018</td>\n",
       "      <td>1263.000000</td>\n",
       "    </tr>\n",
       "    <tr>\n",
       "      <th>236</th>\n",
       "      <td>1337</td>\n",
       "      <td>Pepperdine</td>\n",
       "      <td>1985</td>\n",
       "      <td>2018</td>\n",
       "      <td>1257.000000</td>\n",
       "    </tr>\n",
       "    <tr>\n",
       "      <th>123</th>\n",
       "      <td>1224</td>\n",
       "      <td>Howard</td>\n",
       "      <td>1985</td>\n",
       "      <td>2018</td>\n",
       "      <td>1254.000000</td>\n",
       "    </tr>\n",
       "    <tr>\n",
       "      <th>68</th>\n",
       "      <td>1169</td>\n",
       "      <td>CS Northridge</td>\n",
       "      <td>1991</td>\n",
       "      <td>2018</td>\n",
       "      <td>1254.000000</td>\n",
       "    </tr>\n",
       "    <tr>\n",
       "      <th>218</th>\n",
       "      <td>1319</td>\n",
       "      <td>Northern Arizona</td>\n",
       "      <td>1985</td>\n",
       "      <td>2018</td>\n",
       "      <td>1243.000000</td>\n",
       "    </tr>\n",
       "    <tr>\n",
       "      <th>221</th>\n",
       "      <td>1322</td>\n",
       "      <td>Northwestern LA</td>\n",
       "      <td>1985</td>\n",
       "      <td>2018</td>\n",
       "      <td>1241.000000</td>\n",
       "    </tr>\n",
       "    <tr>\n",
       "      <th>266</th>\n",
       "      <td>1367</td>\n",
       "      <td>SC Upstate</td>\n",
       "      <td>2008</td>\n",
       "      <td>2018</td>\n",
       "      <td>1228.074074</td>\n",
       "    </tr>\n",
       "    <tr>\n",
       "      <th>162</th>\n",
       "      <td>1263</td>\n",
       "      <td>Maine</td>\n",
       "      <td>1985</td>\n",
       "      <td>2018</td>\n",
       "      <td>1223.000000</td>\n",
       "    </tr>\n",
       "    <tr>\n",
       "      <th>129</th>\n",
       "      <td>1230</td>\n",
       "      <td>Incarnate Word</td>\n",
       "      <td>2014</td>\n",
       "      <td>2018</td>\n",
       "      <td>1222.148148</td>\n",
       "    </tr>\n",
       "    <tr>\n",
       "      <th>63</th>\n",
       "      <td>1164</td>\n",
       "      <td>Coppin St</td>\n",
       "      <td>1986</td>\n",
       "      <td>2018</td>\n",
       "      <td>1217.666667</td>\n",
       "    </tr>\n",
       "    <tr>\n",
       "      <th>170</th>\n",
       "      <td>1271</td>\n",
       "      <td>MD E Shore</td>\n",
       "      <td>1985</td>\n",
       "      <td>2018</td>\n",
       "      <td>1202.666667</td>\n",
       "    </tr>\n",
       "    <tr>\n",
       "      <th>35</th>\n",
       "      <td>1136</td>\n",
       "      <td>Bryant</td>\n",
       "      <td>2009</td>\n",
       "      <td>2018</td>\n",
       "      <td>1202.333333</td>\n",
       "    </tr>\n",
       "    <tr>\n",
       "      <th>154</th>\n",
       "      <td>1255</td>\n",
       "      <td>Longwood</td>\n",
       "      <td>2005</td>\n",
       "      <td>2018</td>\n",
       "      <td>1200.000000</td>\n",
       "    </tr>\n",
       "    <tr>\n",
       "      <th>96</th>\n",
       "      <td>1197</td>\n",
       "      <td>Florida A&amp;M</td>\n",
       "      <td>1985</td>\n",
       "      <td>2018</td>\n",
       "      <td>1198.000000</td>\n",
       "    </tr>\n",
       "    <tr>\n",
       "      <th>189</th>\n",
       "      <td>1290</td>\n",
       "      <td>MS Valley St</td>\n",
       "      <td>1985</td>\n",
       "      <td>2018</td>\n",
       "      <td>1173.000000</td>\n",
       "    </tr>\n",
       "    <tr>\n",
       "      <th>51</th>\n",
       "      <td>1152</td>\n",
       "      <td>Chicago St</td>\n",
       "      <td>1985</td>\n",
       "      <td>2018</td>\n",
       "      <td>1142.703704</td>\n",
       "    </tr>\n",
       "    <tr>\n",
       "      <th>74</th>\n",
       "      <td>1175</td>\n",
       "      <td>Delaware St</td>\n",
       "      <td>1985</td>\n",
       "      <td>2018</td>\n",
       "      <td>1134.000000</td>\n",
       "    </tr>\n",
       "    <tr>\n",
       "      <th>4</th>\n",
       "      <td>1105</td>\n",
       "      <td>Alabama A&amp;M</td>\n",
       "      <td>2000</td>\n",
       "      <td>2018</td>\n",
       "      <td>1102.000000</td>\n",
       "    </tr>\n",
       "  </tbody>\n",
       "</table>\n",
       "<p>364 rows × 5 columns</p>\n",
       "</div>"
      ],
      "text/plain": [
       "     TeamID          TeamName  FirstD1Season  LastD1Season          Elo\n",
       "337    1438          Virginia           1985          2018  1873.000000\n",
       "336    1437         Villanova           1985          2018  1869.000000\n",
       "361    1462            Xavier           1985          2018  1842.000000\n",
       "176    1277       Michigan St           1985          2018  1830.000000\n",
       "110    1211           Gonzaga           1985          2018  1830.000000\n",
       "141    1242            Kansas           1985          2018  1819.000000\n",
       "213    1314    North Carolina           1985          2018  1817.000000\n",
       "244    1345            Purdue           1985          2018  1807.000000\n",
       "11     1112           Arizona           1985          2018  1806.000000\n",
       "80     1181              Duke           1985          2018  1802.000000\n",
       "52     1153        Cincinnati           1985          2018  1800.000000\n",
       "354    1455        Wichita St           1985          2018  1794.000000\n",
       "247    1348      Rhode Island           1985          2018  1783.000000\n",
       "287    1388      St Mary's CA           1985          2018  1780.000000\n",
       "175    1276          Michigan           1985          2018  1767.000000\n",
       "19     1120            Auburn           1985          2018  1755.000000\n",
       "204    1305            Nevada           1985          2018  1751.000000\n",
       "145    1246          Kentucky           1985          2018  1749.000000\n",
       "351    1452     West Virginia           1985          2018  1743.000000\n",
       "191    1292              MTSU           1985          2018  1741.000000\n",
       "225    1326           Ohio St           1985          2018  1732.000000\n",
       "338    1439     Virginia Tech           1985          2018  1731.000000\n",
       "302    1403        Texas Tech           1985          2018  1729.000000\n",
       "316    1417              UCLA           1985          2018  1727.000000\n",
       "142    1243         Kansas St           1985          2018  1726.000000\n",
       "296    1397         Tennessee           1985          2018  1722.000000\n",
       "324    1425               USC           1985          2018  1722.000000\n",
       "98     1199        Florida St           1985          2018  1720.000000\n",
       "121    1222           Houston           1985          2018  1719.000000\n",
       "281    1382    St Bonaventure           1985          2018  1716.000000\n",
       "..      ...               ...            ...           ...          ...\n",
       "26     1127        Binghamton           2002          2018  1297.000000\n",
       "7      1108         Alcorn St           1985          2018  1292.000000\n",
       "290    1391           Stetson           1985          2018  1286.000000\n",
       "164    1265            Marist           1985          2018  1286.000000\n",
       "339    1440               VMI           1985          2018  1285.000000\n",
       "49     1150         Charlotte           1985          2018  1282.123251\n",
       "253    1354     S Carolina St           1985          2018  1282.000000\n",
       "122    1223       Houston Bap           1985          2018  1281.000000\n",
       "69     1170     CS Sacramento           1992          2018  1276.000000\n",
       "262    1363       San Jose St           1985          2018  1273.000000\n",
       "5      1106        Alabama St           1985          2018  1271.000000\n",
       "241    1342      Presbyterian           2008          2018  1265.382716\n",
       "9      1110     American Univ           1985          2018  1263.000000\n",
       "236    1337        Pepperdine           1985          2018  1257.000000\n",
       "123    1224            Howard           1985          2018  1254.000000\n",
       "68     1169     CS Northridge           1991          2018  1254.000000\n",
       "218    1319  Northern Arizona           1985          2018  1243.000000\n",
       "221    1322   Northwestern LA           1985          2018  1241.000000\n",
       "266    1367        SC Upstate           2008          2018  1228.074074\n",
       "162    1263             Maine           1985          2018  1223.000000\n",
       "129    1230    Incarnate Word           2014          2018  1222.148148\n",
       "63     1164         Coppin St           1986          2018  1217.666667\n",
       "170    1271        MD E Shore           1985          2018  1202.666667\n",
       "35     1136            Bryant           2009          2018  1202.333333\n",
       "154    1255          Longwood           2005          2018  1200.000000\n",
       "96     1197       Florida A&M           1985          2018  1198.000000\n",
       "189    1290      MS Valley St           1985          2018  1173.000000\n",
       "51     1152        Chicago St           1985          2018  1142.703704\n",
       "74     1175       Delaware St           1985          2018  1134.000000\n",
       "4      1105       Alabama A&M           2000          2018  1102.000000\n",
       "\n",
       "[364 rows x 5 columns]"
      ]
     },
     "execution_count": 18,
     "metadata": {},
     "output_type": "execute_result"
    }
   ],
   "source": [
    "df_team.sort_values(by='Elo',ascending=False)"
   ]
  },
  {
   "cell_type": "markdown",
   "metadata": {},
   "source": [
    "Construct trainning and validation sets. Then use logistic regression function from sklearn to train the data."
   ]
  },
  {
   "cell_type": "code",
   "execution_count": 19,
   "metadata": {
    "_uuid": "09fa9a855154a10e570794e039c05f40827216bc"
   },
   "outputs": [
    {
     "data": {
      "text/plain": [
       "((63190, 12), (63190,), (15798, 12), (15798,))"
      ]
     },
     "execution_count": 19,
     "metadata": {},
     "output_type": "execute_result"
    }
   ],
   "source": [
    "x_train, x_test, y_train, y_test = train_test_split(np.array(x), np.array(y), test_size=0.2)\n",
    "x_train.shape, y_train.shape, x_test.shape, y_test.shape"
   ]
  },
  {
   "cell_type": "code",
   "execution_count": 20,
   "metadata": {
    "_uuid": "3766e877335fbe3ad782485cb39b4ca9a10c39f6"
   },
   "outputs": [
    {
     "name": "stdout",
     "output_type": "stream",
     "text": [
      "73.0 73.09\n"
     ]
    }
   ],
   "source": [
    "logreg = LogisticRegression()\n",
    "logreg.fit(x_train,y_train)\n",
    "acc_logreg = round(logreg.score(x_train, y_train) * 100, 2)\n",
    "acc_cv = round(logreg.score(x_test, y_test) * 100, 2)\n",
    "print(acc_logreg,acc_cv)"
   ]
  },
  {
   "cell_type": "markdown",
   "metadata": {},
   "source": [
    "The accurancy from the logistic regression function is about 73%."
   ]
  },
  {
   "cell_type": "code",
   "execution_count": 21,
   "metadata": {
    "_uuid": "5f2f51e4b9170b574fa19228f6f899c180d9027b",
    "collapsed": true
   },
   "outputs": [],
   "source": [
    "sub = pd.read_csv(\"data/NCAA_2018_Solution_Mens.csv\")\n",
    "sub[\"Team1\"] = sub[\"ID\"].apply(lambda x: int(x.split(\"_\")[1]))\n",
    "sub[\"Team2\"] = sub[\"ID\"].apply(lambda x: int(x.split(\"_\")[2]))"
   ]
  },
  {
   "cell_type": "code",
   "execution_count": 22,
   "metadata": {
    "_uuid": "18d59f30b314b996df3d79383b52568f02c24cd0",
    "collapsed": true
   },
   "outputs": [],
   "source": [
    "x_input = []\n",
    "for index, row in sub.iterrows():\n",
    "    sub.at[index,'TeamName1'] = df_team.at[row.Team1-1101,'TeamName']\n",
    "    sub.at[index,'TeamName2'] = df_team.at[row.Team2-1101,'TeamName']\n",
    "    x_temp = [df_team.at[row.Team1-1101,'Elo']-df_team.at[row.Team2-1101,'Elo']]\n",
    "    for feature in features:\n",
    "        x_temp.append(np.mean(season_stat[2018][row.Team1][feature])-np.mean(season_stat[2018][row.Team2][feature]))\n",
    "    x_input.append(x_temp)"
   ]
  },
  {
   "cell_type": "code",
   "execution_count": 26,
   "metadata": {
    "_uuid": "ec34ac260f9571fa45f87b50f0e34e62ffbe0757"
   },
   "outputs": [
    {
     "data": {
      "text/html": [
       "<div>\n",
       "<style>\n",
       "    .dataframe thead tr:only-child th {\n",
       "        text-align: right;\n",
       "    }\n",
       "\n",
       "    .dataframe thead th {\n",
       "        text-align: left;\n",
       "    }\n",
       "\n",
       "    .dataframe tbody tr th {\n",
       "        vertical-align: top;\n",
       "    }\n",
       "</style>\n",
       "<table border=\"1\" class=\"dataframe\">\n",
       "  <thead>\n",
       "    <tr style=\"text-align: right;\">\n",
       "      <th></th>\n",
       "      <th>ID</th>\n",
       "      <th>Pred</th>\n",
       "      <th>Team1</th>\n",
       "      <th>Team2</th>\n",
       "      <th>TeamName1</th>\n",
       "      <th>TeamName2</th>\n",
       "      <th>Prob_by_model</th>\n",
       "      <th>pred_by_model</th>\n",
       "      <th>Pred_by_model</th>\n",
       "    </tr>\n",
       "  </thead>\n",
       "  <tbody>\n",
       "    <tr>\n",
       "      <th>0</th>\n",
       "      <td>2018_1104_1112</td>\n",
       "      <td>-1</td>\n",
       "      <td>1104</td>\n",
       "      <td>1112</td>\n",
       "      <td>Alabama</td>\n",
       "      <td>Arizona</td>\n",
       "      <td>0.224131</td>\n",
       "      <td>0</td>\n",
       "      <td>0</td>\n",
       "    </tr>\n",
       "    <tr>\n",
       "      <th>1</th>\n",
       "      <td>2018_1104_1113</td>\n",
       "      <td>-1</td>\n",
       "      <td>1104</td>\n",
       "      <td>1113</td>\n",
       "      <td>Alabama</td>\n",
       "      <td>Arizona St</td>\n",
       "      <td>0.477329</td>\n",
       "      <td>0</td>\n",
       "      <td>0</td>\n",
       "    </tr>\n",
       "    <tr>\n",
       "      <th>2</th>\n",
       "      <td>2018_1104_1116</td>\n",
       "      <td>-1</td>\n",
       "      <td>1104</td>\n",
       "      <td>1116</td>\n",
       "      <td>Alabama</td>\n",
       "      <td>Arkansas</td>\n",
       "      <td>0.435083</td>\n",
       "      <td>0</td>\n",
       "      <td>0</td>\n",
       "    </tr>\n",
       "    <tr>\n",
       "      <th>3</th>\n",
       "      <td>2018_1104_1120</td>\n",
       "      <td>-1</td>\n",
       "      <td>1104</td>\n",
       "      <td>1120</td>\n",
       "      <td>Alabama</td>\n",
       "      <td>Auburn</td>\n",
       "      <td>0.282290</td>\n",
       "      <td>0</td>\n",
       "      <td>0</td>\n",
       "    </tr>\n",
       "    <tr>\n",
       "      <th>4</th>\n",
       "      <td>2018_1104_1137</td>\n",
       "      <td>-1</td>\n",
       "      <td>1104</td>\n",
       "      <td>1137</td>\n",
       "      <td>Alabama</td>\n",
       "      <td>Bucknell</td>\n",
       "      <td>0.515150</td>\n",
       "      <td>1</td>\n",
       "      <td>1</td>\n",
       "    </tr>\n",
       "    <tr>\n",
       "      <th>5</th>\n",
       "      <td>2018_1104_1138</td>\n",
       "      <td>-1</td>\n",
       "      <td>1104</td>\n",
       "      <td>1138</td>\n",
       "      <td>Alabama</td>\n",
       "      <td>Buffalo</td>\n",
       "      <td>0.556918</td>\n",
       "      <td>1</td>\n",
       "      <td>1</td>\n",
       "    </tr>\n",
       "    <tr>\n",
       "      <th>6</th>\n",
       "      <td>2018_1104_1139</td>\n",
       "      <td>-1</td>\n",
       "      <td>1104</td>\n",
       "      <td>1139</td>\n",
       "      <td>Alabama</td>\n",
       "      <td>Butler</td>\n",
       "      <td>0.417579</td>\n",
       "      <td>0</td>\n",
       "      <td>0</td>\n",
       "    </tr>\n",
       "    <tr>\n",
       "      <th>7</th>\n",
       "      <td>2018_1104_1153</td>\n",
       "      <td>-1</td>\n",
       "      <td>1104</td>\n",
       "      <td>1153</td>\n",
       "      <td>Alabama</td>\n",
       "      <td>Cincinnati</td>\n",
       "      <td>0.212000</td>\n",
       "      <td>0</td>\n",
       "      <td>0</td>\n",
       "    </tr>\n",
       "    <tr>\n",
       "      <th>8</th>\n",
       "      <td>2018_1104_1155</td>\n",
       "      <td>-1</td>\n",
       "      <td>1104</td>\n",
       "      <td>1155</td>\n",
       "      <td>Alabama</td>\n",
       "      <td>Clemson</td>\n",
       "      <td>0.423969</td>\n",
       "      <td>0</td>\n",
       "      <td>0</td>\n",
       "    </tr>\n",
       "    <tr>\n",
       "      <th>9</th>\n",
       "      <td>2018_1104_1158</td>\n",
       "      <td>-1</td>\n",
       "      <td>1104</td>\n",
       "      <td>1158</td>\n",
       "      <td>Alabama</td>\n",
       "      <td>Col Charleston</td>\n",
       "      <td>0.495877</td>\n",
       "      <td>0</td>\n",
       "      <td>0</td>\n",
       "    </tr>\n",
       "  </tbody>\n",
       "</table>\n",
       "</div>"
      ],
      "text/plain": [
       "               ID  Pred  Team1  Team2 TeamName1       TeamName2  \\\n",
       "0  2018_1104_1112    -1   1104   1112   Alabama         Arizona   \n",
       "1  2018_1104_1113    -1   1104   1113   Alabama      Arizona St   \n",
       "2  2018_1104_1116    -1   1104   1116   Alabama        Arkansas   \n",
       "3  2018_1104_1120    -1   1104   1120   Alabama          Auburn   \n",
       "4  2018_1104_1137    -1   1104   1137   Alabama        Bucknell   \n",
       "5  2018_1104_1138    -1   1104   1138   Alabama         Buffalo   \n",
       "6  2018_1104_1139    -1   1104   1139   Alabama          Butler   \n",
       "7  2018_1104_1153    -1   1104   1153   Alabama      Cincinnati   \n",
       "8  2018_1104_1155    -1   1104   1155   Alabama         Clemson   \n",
       "9  2018_1104_1158    -1   1104   1158   Alabama  Col Charleston   \n",
       "\n",
       "   Prob_by_model  pred_by_model  Pred_by_model  \n",
       "0       0.224131              0              0  \n",
       "1       0.477329              0              0  \n",
       "2       0.435083              0              0  \n",
       "3       0.282290              0              0  \n",
       "4       0.515150              1              1  \n",
       "5       0.556918              1              1  \n",
       "6       0.417579              0              0  \n",
       "7       0.212000              0              0  \n",
       "8       0.423969              0              0  \n",
       "9       0.495877              0              0  "
      ]
     },
     "execution_count": 26,
     "metadata": {},
     "output_type": "execute_result"
    }
   ],
   "source": [
    "sub['Prob_by_model']=logreg.predict_proba(np.array(x_input))[:,1]\n",
    "sub['Pred_by_model']= logreg.predict(np.array(x_input))\n",
    "sub[:10]"
   ]
  },
  {
   "cell_type": "markdown",
   "metadata": {
    "_uuid": "d67f96afd3e552fbd559310555a2ebd1b83aca2e",
    "collapsed": true
   },
   "source": [
    "Now let's compare my prediction to the actual results!"
   ]
  },
  {
   "cell_type": "code",
   "execution_count": 27,
   "metadata": {
    "_uuid": "87977ee157441dd7d51571a6b13f552d33aa9251"
   },
   "outputs": [
    {
     "data": {
      "text/plain": [
       "Int64Index([  60,   62,   71,  201,  266,  267,  349,  403,  483,  516,  535,\n",
       "             578,  594,  692,  768,  802,  852,  853,  877,  883,  934,  940,\n",
       "             953,  964,  966, 1002, 1073, 1094, 1111, 1129, 1216, 1223, 1236,\n",
       "            1243, 1246, 1279, 1345, 1418, 1419, 1426, 1443, 1494, 1495, 1539,\n",
       "            1562, 1568, 1595, 1713, 1762, 1799, 1859, 1878, 1904, 1965, 1990,\n",
       "            2018, 2113, 2142, 2185, 2216, 2232, 2244, 2259],\n",
       "           dtype='int64')"
      ]
     },
     "execution_count": 27,
     "metadata": {},
     "output_type": "execute_result"
    }
   ],
   "source": [
    "sub_2018 = sub[sub['Pred']!=-1]\n",
    "sub_2018.index"
   ]
  },
  {
   "cell_type": "code",
   "execution_count": 28,
   "metadata": {},
   "outputs": [],
   "source": [
    "log_loss = 0\n",
    "accuracy = 0\n",
    "for index in sub_2018.index:\n",
    "    log_loss += sub.at[index,'Pred']*np.log(sub.at[index,'Prob_by_model'])+(1-sub.at[index,'Pred'])*np.log((1-sub.at[index,'Prob_by_model']))\n",
    "    accuracy += int(sub.at[index,'Pred'])==int(sub.at[index,'Pred_by_model'])\n",
    "log_loss /= -len(sub_2018)\n",
    "accuracy /= len(sub_2018)"
   ]
  },
  {
   "cell_type": "code",
   "execution_count": 29,
   "metadata": {},
   "outputs": [
    {
     "name": "stdout",
     "output_type": "stream",
     "text": [
      "0.584879024086 0.7142857142857143\n"
     ]
    }
   ],
   "source": [
    "print(log_loss, accuracy)"
   ]
  },
  {
   "cell_type": "markdown",
   "metadata": {},
   "source": [
    "So my model has a log loss of 0.584879024086 and it correctly predicts ~71.43% of the 2018 NCAA tournament games. "
   ]
  }
 ],
 "metadata": {
  "kernelspec": {
   "display_name": "Python 3",
   "language": "python",
   "name": "python3"
  },
  "language_info": {
   "codemirror_mode": {
    "name": "ipython",
    "version": 3
   },
   "file_extension": ".py",
   "mimetype": "text/x-python",
   "name": "python",
   "nbconvert_exporter": "python",
   "pygments_lexer": "ipython3",
   "version": "3.6.3"
  }
 },
 "nbformat": 4,
 "nbformat_minor": 1
}
