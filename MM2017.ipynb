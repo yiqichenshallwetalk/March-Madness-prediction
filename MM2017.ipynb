{
  "cells": [
    {
      "metadata": {
        "_uuid": "8f2839f25d086af736a60e9eeb907d3b93b6e0e5",
        "_cell_guid": "b1076dfc-b9ad-4769-8c92-a6c4dae69d19",
        "trusted": true,
        "collapsed": true
      },
      "cell_type": "code",
      "source": "import numpy as np # linear algebra\nimport pandas as pd # data processing, CSV file I/O (e.g. pd.read_csv)\n\nimport os\nprint(os.listdir(\"../input\"))\n",
      "execution_count": 1,
      "outputs": []
    },
    {
      "metadata": {
        "_uuid": "8789a9a238c92d2731ebc12d6eabf80ac226ceb6"
      },
      "cell_type": "markdown",
      "source": "Import neccessary libraries and packages"
    },
    {
      "metadata": {
        "_cell_guid": "79c7e3d0-c299-4dcb-8224-4455121ee9b0",
        "_uuid": "d629ff2d2480ee46fbb7e2d37f6b5fab8052498a",
        "trusted": true,
        "collapsed": true
      },
      "cell_type": "code",
      "source": "import matplotlib.pyplot as plt\n%matplotlib inline\nimport random\nfrom sklearn.linear_model import LogisticRegression\nfrom sklearn.model_selection import train_test_split,cross_val_score",
      "execution_count": 2,
      "outputs": []
    },
    {
      "metadata": {
        "_uuid": "e0653dbff491a910884c93d6a199a92356c657ea"
      },
      "cell_type": "markdown",
      "source": "Load previous results from both regular season and the NCAA tourment."
    },
    {
      "metadata": {
        "trusted": true,
        "_uuid": "0e75d6d7d3410693ca8ede4455607523f92403a2",
        "collapsed": true
      },
      "cell_type": "code",
      "source": "dr_reg = pd.read_csv(\"../input/RegularSeasonDetailedResults.csv\")\ndr_tour = pd.read_csv(\"../input/TourneyDetailedResults.csv\")\ndf_team = pd.read_csv(\"../input/Teams.csv\")\ndr= pd.concat((dr_reg, dr_tour), ignore_index=True)",
      "execution_count": 3,
      "outputs": []
    },
    {
      "metadata": {
        "_uuid": "d9844742e97919c95d5b9eb030687b0c3c30b129"
      },
      "cell_type": "markdown",
      "source": "Add some engineered features:  field goal %, 3 pointer %, free throw % and assist/(assist+turnover) % for both winner and loser."
    },
    {
      "metadata": {
        "trusted": true,
        "_uuid": "186dd7f30ba46220607e82cbd1265f7ecff4e52d",
        "collapsed": true
      },
      "cell_type": "code",
      "source": "dr = dr.assign(Wfgp = dr.Wfgm/dr.Wfga*100)\ndr = dr.assign(Wfgp3 = dr.Wfgm3/dr.Wfga3*100)\ndr = dr.assign(Lfgp = dr.Lfgm/dr.Lfga*100)\ndr = dr.assign(Lfgp3 = dr.Lfgm3/dr.Lfga3*100)\ndr = dr.assign(Lftp = dr.Lftm/dr.Lfta*100)\ndr = dr.assign(Wftp = dr.Wftm/dr.Wfta*100)\ndr = dr.assign(Latop = dr.Last/(dr.Last+dr.Lto)*100)\ndr = dr.assign(Watop = dr.Wast/(dr.Wast+dr.Wto)*100)\ndr.fillna(value=0.0,inplace=True)\n# Sort with time\ndr.sort_values(by=['Season','Daynum'],inplace=True)",
      "execution_count": 4,
      "outputs": []
    },
    {
      "metadata": {
        "_uuid": "b03424018fac8f61575b1124e23cc70606409819"
      },
      "cell_type": "markdown",
      "source": "Look at the histograms of the above features for both the winner an loser."
    },
    {
      "metadata": {
        "trusted": true,
        "_uuid": "a17c9dcbdd208222e06fd23d5621f4db762d7909",
        "collapsed": true
      },
      "cell_type": "code",
      "source": "(hist_Wfg,bins_fg) = plt.hist(dr.Wfgp,bins=100,range=(min(dr.Lfgp),max(dr.Wfgp)))[:-1]\nhist_Lfg = plt.hist(dr.Lfgp,bins=100,range=(min(dr.Lfgp),max(dr.Wfgp)))[0]\nplt.xlabel('field goal %')",
      "execution_count": 5,
      "outputs": []
    },
    {
      "metadata": {
        "trusted": true,
        "_uuid": "08969cf39c4a1d05d66227db32c3b2281e0e2da8",
        "collapsed": true
      },
      "cell_type": "code",
      "source": "(hist_Wfg3,bins_fg3) = plt.hist(dr.Wfgp3,bins=100,range=(min(list(dr.Lfgp3)+list(dr.Wfgp3)),max(list(dr.Lfgp3)+list(dr.Wfgp3))))[:-1]\nhist_Lfg3 = plt.hist(dr.Lfgp3,bins=100,range=(min(list(dr.Lfgp3)+list(dr.Wfgp3)),max(list(dr.Lfgp3)+list(dr.Wfgp3))))[0]\nplt.xlabel('3 pointer %')",
      "execution_count": 6,
      "outputs": []
    },
    {
      "metadata": {
        "trusted": true,
        "_uuid": "6dd036d2c8c19d352c02f1fcf6bcbae31ef75917",
        "collapsed": true
      },
      "cell_type": "code",
      "source": "(hist_Wft,bins_ft) = plt.hist(dr.Wftp,bins=100,range=(min(list(dr.Lftp)+list(dr.Wftp)),max(list(dr.Lftp)+list(dr.Wftp))))[:-1]\nhist_Lft = plt.hist(dr.Lftp,bins=100,range=(min(list(dr.Lftp)+list(dr.Wftp)),max(list(dr.Lftp)+list(dr.Wftp))))[0]\nplt.xlabel('free throw %')",
      "execution_count": 7,
      "outputs": []
    },
    {
      "metadata": {
        "trusted": true,
        "_uuid": "1fa6db19681f29efded940f212756d56befe9c7a",
        "collapsed": true
      },
      "cell_type": "code",
      "source": "(hist_Watop,bins_atop) = plt.hist(dr.Watop,bins=100,range=(min(list(dr.Latop)+list(dr.Watop)),max(list(dr.Latop)+list(dr.Watop))))[:-1]\nhist_Latop = plt.hist(dr.Latop,bins=100,range=(min(list(dr.Latop)+list(dr.Watop)),max(list(dr.Latop)+list(dr.Watop))))[0]",
      "execution_count": 8,
      "outputs": []
    },
    {
      "metadata": {
        "_uuid": "21cfa78607a96650d68bfefcb42f1fbc8ccb7835"
      },
      "cell_type": "markdown",
      "source": "Then look at the winning percentage as a function of the above features."
    },
    {
      "metadata": {
        "trusted": true,
        "_uuid": "8d56d6a37daa7a944033413d520929c52fe2227a",
        "collapsed": true
      },
      "cell_type": "code",
      "source": "prob_Wfg = hist_Wfg/(hist_Wfg+hist_Lfg)\nprob_Wfg3 = hist_Wfg3/(hist_Wfg3+hist_Lfg3)\nprob_Wft = hist_Wft/(hist_Wft+hist_Lft)\nprob_Wato = hist_Watop/(hist_Watop+hist_Latop)",
      "execution_count": 9,
      "outputs": []
    },
    {
      "metadata": {
        "trusted": true,
        "_uuid": "4dbf37e5141714a1fc9777f57d8ae4824a8fffa7",
        "collapsed": true
      },
      "cell_type": "code",
      "source": "plt.figure(1)\nplt.subplot(221)\nplt.plot(bins_fg[:-1],prob_Wfg,'.')\nplt.xlabel('field goal %')\nplt.ylabel('winning %')\n\nplt.subplot(222)\nplt.plot(bins_fg3[:-1],prob_Wfg3,'.')\nplt.xlabel('3 point %')\n\nplt.subplot(223)\nplt.plot(bins_ft[:-1],prob_Wft,'.')\nplt.xlabel('free throw %')\nplt.ylabel('winning %')\n\nplt.subplot(224)\nplt.plot(bins_atop[:-1],prob_Wato,'.')\nplt.xlabel('ass/to %')\n\nplt.tight_layout()",
      "execution_count": 10,
      "outputs": []
    },
    {
      "metadata": {
        "_uuid": "465f337850b7478203898f1443ccff3c83cb1650"
      },
      "cell_type": "markdown",
      "source": "No surprise,  filed goal, 3 point, free throw percentages and assist to turnover ratio are pretty important to winning.\nNext we take a look at the best teams since 2003."
    },
    {
      "metadata": {
        "trusted": true,
        "_uuid": "0cb2bd7c36b8d426d3e63d0024bfcde53096e2db",
        "collapsed": true
      },
      "cell_type": "code",
      "source": "df_wins = dr.groupby('Wteam').size().reset_index()\ndf_wins = df_wins.rename(index=str, columns={\"Wteam\": \"Team_Id\",0:'Wins'})\n\ndf_loss = dr.groupby('Lteam').size().reset_index()\ndf_loss=df_loss.rename(index=str, columns={\"Lteam\": \"Team_Id\",0:'Loss'})",
      "execution_count": 11,
      "outputs": []
    },
    {
      "metadata": {
        "trusted": true,
        "_uuid": "7c74520590c65166aa80ce082b1b880f25550b3b",
        "collapsed": true
      },
      "cell_type": "code",
      "source": "df_percent = df_wins['Wins']/(df_wins['Wins']+df_loss['Loss'])*100\ndf_percent = df_percent.to_frame()\ndf_percent['Team_Id'] = df_wins['Team_Id']\ndf_percent=df_percent.rename(index=str, columns={0:'Win %'})",
      "execution_count": 12,
      "outputs": []
    },
    {
      "metadata": {
        "trusted": true,
        "_uuid": "e9f283ad2eb09b1eb26737c25c27e8f83a7ae497",
        "collapsed": true
      },
      "cell_type": "code",
      "source": "df_win = df_team.merge(df_wins,on='Team_Id').merge(df_loss,on='Team_Id').merge(df_percent,on='Team_Id').sort_values(by='Win %',ascending=False)",
      "execution_count": 13,
      "outputs": []
    },
    {
      "metadata": {
        "trusted": true,
        "_uuid": "e3daafbaca9c33cd0a65b2e33911cdcd08150194",
        "collapsed": true
      },
      "cell_type": "code",
      "source": "df_win[:10]",
      "execution_count": 14,
      "outputs": []
    },
    {
      "metadata": {
        "_uuid": "68f6c8b8a12ee2663af9fa8616ef68080eb32813"
      },
      "cell_type": "markdown",
      "source": "Kansas, Gonzaga and Duke are the top 3 in winning percentage."
    },
    {
      "metadata": {
        "_uuid": "cedc7f1fa99414f761e2201f339a1822336db9e9"
      },
      "cell_type": "markdown",
      "source": "Now we are gonna use a new feature called the Elo rating. It is invented by Arpad Elo and it's used for reflecting the strength teams. Reference: https://en.wikipedia.org/wiki/Elo_rating_system\nA base value of 1500 and width of 400 is used."
    },
    {
      "metadata": {
        "trusted": true,
        "collapsed": true,
        "_uuid": "2b0bfecd1590a220fce0ab2871c2577518b9c814"
      },
      "cell_type": "code",
      "source": "base_elo = 1500\nelo_width = 400",
      "execution_count": 15,
      "outputs": []
    },
    {
      "metadata": {
        "trusted": true,
        "collapsed": true,
        "_uuid": "be627319f7abdffab233f4cb760a5cac446381a4"
      },
      "cell_type": "code",
      "source": "# Define functions to calculate elo rating and the mean season stats. \ndef cal_elo(win_elo_before, lose_elo_before):\n    expect_a = 1.0/(1+10**((lose_elo_before - win_elo_before)/elo_width))\n    # Change k factor for different rating range so that high ratings will not be too sensitive to recent results.\n    if win_elo_before < 2400:\n        k_factor = 32\n    else:\n        k_factor = 24\n    win_elo_after = round(win_elo_before + (k_factor * (1 - expect_a)))\n    diff_elo = win_elo_after-win_elo_before\n    lose_elo_after = lose_elo_before-diff_elo\n    return win_elo_after, lose_elo_after\n\ndef update_stats(season,team,stat,value):\n    if team not in season_stat[season]:\n        season_stat[season][team] = {}\n    if stat not in season_stat[season][team]:\n        season_stat[season][team][stat] = [value]\n    else:\n        season_stat[season][team][stat].append(value)",
      "execution_count": 16,
      "outputs": []
    },
    {
      "metadata": {
        "trusted": true,
        "_uuid": "aece9fff71060aba5436ad3d060c1be8e648589b",
        "collapsed": true
      },
      "cell_type": "code",
      "source": "x=[]\ny=[]\nseason_stat = {}\ndf_team['elo'] = base_elo\ncurrent_season = dr.at[0, 'Season']\nseason_stat[current_season] = {}\nfeatures = ['fgp','fga','fgp3','fga3','ftp','fta','atop','or','dr','stl','blk']\n#Use 11 features plus elo rating to train",
      "execution_count": 17,
      "outputs": []
    },
    {
      "metadata": {
        "trusted": true,
        "_uuid": "d5861381ab0898f80a2c62c69212a7acb9018124",
        "collapsed": true
      },
      "cell_type": "code",
      "source": "for index, row in dr.iterrows():\n    if row['Season'] != current_season:\n        \"\"\"After each season, regress toward the base rating to make ratings more close \n        in the start of each season\n        \"\"\"\n        df_team['elo'] -= (df_team['elo']-base_elo)/3\n        current_season = row['Season']\n        season_stat[current_season] = {}\n    # Calculate and update elo for Wteam and Lteam\n    win_team = row['Wteam']\n    lose_team = row['Lteam']\n    win_elo_before = df_team.at[win_team-1101,'elo']\n    lose_elo_before = df_team.at[lose_team-1101,'elo']\n    win_elo,lose_elo = cal_elo(win_elo_before, lose_elo_before) \n    df_team.at[win_team-1101,'elo'] = win_elo\n    df_team.at[lose_team-1101,'elo'] = lose_elo\n    # Give extra 100 elo rating to the home team\n    if row.Wloc == 'H':\n        win_elo_before += 100\n    elif row.Wloc == 'A':\n        lose_elo_before += 100\n    # Collect training data as the diff of features from the winner and loser.\n    x_temp = [win_elo_before-lose_elo_before]\n    skip = False\n    for feature in features:\n        try:\n            W_value = np.mean(season_stat[current_season][win_team][feature])\n            L_value = np.mean(season_stat[current_season][lose_team][feature])\n            x_temp.append(W_value-L_value)\n        except:\n            skip = True\n        # Update stats for this current season\n        update_stats(current_season,win_team,feature,row['W'+feature])\n        update_stats(current_season,lose_team,feature,row['L'+feature])\n    # If the two teams have played at least one game in the season, we collect their average stats\n    if not skip:\n        if random.random() > 0.5:\n            x.append(x_temp)\n            y.append(1)    \n        else:\n            x.append(list(-np.array(x_temp)))\n            y.append(0)                ",
      "execution_count": 18,
      "outputs": []
    },
    {
      "metadata": {
        "_uuid": "a86ce4c2a7d7f97291217f6d5e1da4ab37b12ea2"
      },
      "cell_type": "markdown",
      "source": "Now let's look at the teams with the highest elo ratings. The defending champions Vilanova is the top school in this list."
    },
    {
      "metadata": {
        "trusted": true,
        "_uuid": "66a72f5ca65b163037aefc5ab0c5d4e51ba28ee2",
        "collapsed": true
      },
      "cell_type": "code",
      "source": "df_team.sort_values(by='elo',ascending=False)",
      "execution_count": 19,
      "outputs": []
    },
    {
      "metadata": {
        "_uuid": "15971418baf403d12700e3521e3fbadf306b24cb"
      },
      "cell_type": "markdown",
      "source": "Now let's train the data by Sklearn's logistic regression method."
    },
    {
      "metadata": {
        "trusted": true,
        "_uuid": "56f43baf3bd5c9b05926ef3b927e89635422d1f5",
        "collapsed": true
      },
      "cell_type": "code",
      "source": "x_train, x_test, y_train, y_test = train_test_split(np.array(x), np.array(y), test_size=0.2)",
      "execution_count": 20,
      "outputs": []
    },
    {
      "metadata": {
        "trusted": true,
        "_uuid": "fb0a15b7bc446f74dfc85da92f6f1a3fc600176c",
        "collapsed": true
      },
      "cell_type": "code",
      "source": "x_train.shape, y_train.shape, x_test.shape, y_test.shape",
      "execution_count": 21,
      "outputs": []
    },
    {
      "metadata": {
        "trusted": true,
        "_uuid": "790b60c6a2ca9a1cb0f6a0a4e4d9016ca1dfcdb3",
        "collapsed": true
      },
      "cell_type": "code",
      "source": "# Logistic Regression\nlogreg = LogisticRegression()\nlogreg.fit(x_train,y_train)\nacc_logreg = round(logreg.score(x_train, y_train) * 100, 2)\nacc_cv = round(logreg.score(x_test, y_test) * 100, 2)\nprint(acc_logreg,acc_cv)",
      "execution_count": 22,
      "outputs": []
    },
    {
      "metadata": {
        "trusted": true,
        "collapsed": true,
        "_uuid": "7c17c94ad2f54f3f59d5dbcd632d72fbb388f217"
      },
      "cell_type": "markdown",
      "source": "Collect the average stats from 2017 season and predict the tourment results."
    },
    {
      "metadata": {
        "trusted": true,
        "_uuid": "dd4fc4f316015ce5021d3098ea29059d49ff0823",
        "collapsed": true
      },
      "cell_type": "code",
      "source": "sub = pd.read_csv(\"../input/SampleSubmission.csv\")\nsub[\"Team1\"] = sub[\"Id\"].apply(lambda x: int(x.split(\"_\")[1]))\nsub[\"Team2\"] = sub[\"Id\"].apply(lambda x: int(x.split(\"_\")[2]))",
      "execution_count": 23,
      "outputs": []
    },
    {
      "metadata": {
        "trusted": true,
        "_uuid": "b4fd1869ad49f9fcba171ea4e2d135770e799039",
        "collapsed": true
      },
      "cell_type": "code",
      "source": "x_input = []\nfor index, row in sub.iterrows():\n    sub.at[index,'Team_Name1'] = df_team.at[row.Team1-1101,'Team_Name']\n    sub.at[index,'Team_Name2'] = df_team.at[row.Team2-1101,'Team_Name']\n    x_temp = [df_team.at[row.Team1-1101,'elo']-df_team.at[row.Team2-1101,'elo']]\n    for feature in features:\n        x_temp.append(np.mean(season_stat[2017][row.Team1][feature])-np.mean(season_stat[2017][row.Team2][feature]))\n    x_input.append(x_temp)",
      "execution_count": 24,
      "outputs": []
    },
    {
      "metadata": {
        "trusted": true,
        "_uuid": "f0fc060b782783326ed0c68f97427e5ec61ff6ed",
        "collapsed": true
      },
      "cell_type": "code",
      "source": "sub['Pred']=logreg.predict_proba(np.array(x_input))[:,1]",
      "execution_count": 25,
      "outputs": []
    },
    {
      "metadata": {
        "trusted": true,
        "_uuid": "4f235125fd7f13b253768711992904ac0f0795c5",
        "collapsed": true
      },
      "cell_type": "code",
      "source": "sub[:10]",
      "execution_count": 26,
      "outputs": []
    },
    {
      "metadata": {
        "trusted": true,
        "collapsed": true,
        "_uuid": "52f2e2724ec324f4f1457e0856d6762a86b9ef03"
      },
      "cell_type": "code",
      "source": "sub = sub[['Id','Pred']]\nsub.to_csv(\"submission.csv\", index=False)",
      "execution_count": 27,
      "outputs": []
    }
  ],
  "metadata": {
    "kernelspec": {
      "display_name": "Python 3",
      "language": "python",
      "name": "python3"
    },
    "language_info": {
      "name": "python",
      "version": "3.6.5",
      "mimetype": "text/x-python",
      "codemirror_mode": {
        "name": "ipython",
        "version": 3
      },
      "pygments_lexer": "ipython3",
      "nbconvert_exporter": "python",
      "file_extension": ".py"
    }
  },
  "nbformat": 4,
  "nbformat_minor": 1
}