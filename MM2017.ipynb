{
  "cells": [
    {
      "metadata": {
        "_uuid": "8f2839f25d086af736a60e9eeb907d3b93b6e0e5",
        "_cell_guid": "b1076dfc-b9ad-4769-8c92-a6c4dae69d19",
        "trusted": true,
        "collapsed": true
      },
      "cell_type": "code",
      "source": "# This Python 3 environment comes with many helpful analytics libraries installed\n# It is defined by the kaggle/python docker image: https://github.com/kaggle/docker-python\n# For example, here's several helpful packages to load in \n\nimport numpy as np # linear algebra\nimport pandas as pd # data processing, CSV file I/O (e.g. pd.read_csv)\n\n# Input data files are available in the \"../input/\" directory.\n# For example, running this (by clicking run or pressing Shift+Enter) will list the files in the input directory\n\nimport os\nprint(os.listdir(\"../input\"))\n\n# Any results you write to the current directory are saved as output.\nfrom subprocess import check_output\nprint(check_output([\"ls\", \"../input\"]).decode(\"utf8\"))",
      "execution_count": 1,
      "outputs": []
    },
    {
      "metadata": {
        "_cell_guid": "79c7e3d0-c299-4dcb-8224-4455121ee9b0",
        "_uuid": "d629ff2d2480ee46fbb7e2d37f6b5fab8052498a",
        "trusted": true,
        "collapsed": true
      },
      "cell_type": "code",
      "source": "import matplotlib.pyplot as plt\n%matplotlib inline\nimport random\nfrom sklearn.linear_model import LogisticRegression\nfrom sklearn.model_selection import train_test_split,cross_val_score",
      "execution_count": 2,
      "outputs": []
    },
    {
      "metadata": {
        "trusted": true,
        "_uuid": "0e75d6d7d3410693ca8ede4455607523f92403a2",
        "collapsed": true
      },
      "cell_type": "code",
      "source": "dr_reg = pd.read_csv(\"../input/RegularSeasonDetailedResults.csv\")\ndr_tour = pd.read_csv(\"../input/TourneyDetailedResults.csv\")\ndf_team = pd.read_csv(\"../input/Teams.csv\")\ndr= pd.concat((dr_reg, dr_tour), ignore_index=True)",
      "execution_count": 3,
      "outputs": []
    },
    {
      "metadata": {
        "trusted": true,
        "_uuid": "186dd7f30ba46220607e82cbd1265f7ecff4e52d",
        "collapsed": true
      },
      "cell_type": "code",
      "source": "dr = dr.assign(Wfgp = dr.Wfgm/dr.Wfga*100)\ndr = dr.assign(Wfgp3 = dr.Wfgm3/dr.Wfga3*100)\ndr = dr.assign(Lfgp = dr.Lfgm/dr.Lfga*100)\ndr = dr.assign(Lfgp3 = dr.Lfgm3/dr.Lfga3*100)\ndr = dr.assign(Lftp = dr.Lftm/dr.Lfta*100)\ndr = dr.assign(Wftp = dr.Wftm/dr.Wfta*100)\ndr = dr.assign(Latop = dr.Last/(dr.Last+dr.Lto)*100)\ndr = dr.assign(Watop = dr.Wast/(dr.Wast+dr.Wto)*100)\ndr.fillna(value=0.0,inplace=True)",
      "execution_count": 4,
      "outputs": []
    },
    {
      "metadata": {
        "trusted": true,
        "_uuid": "b878781e0eeab49f0a54536d048ddee7a897ac4e",
        "collapsed": true
      },
      "cell_type": "code",
      "source": "dr.sort_values(by=['Season','Daynum'],inplace=True)",
      "execution_count": 5,
      "outputs": []
    },
    {
      "metadata": {
        "trusted": true,
        "_uuid": "a17c9dcbdd208222e06fd23d5621f4db762d7909",
        "collapsed": true
      },
      "cell_type": "code",
      "source": "(hist_Wfg,bins_fg) = plt.hist(dr.Wfgp,bins=100,range=(min(dr.Lfgp),max(dr.Wfgp)))[:-1]\nhist_Lfg = plt.hist(dr.Lfgp,bins=100,range=(min(dr.Lfgp),max(dr.Wfgp)))[0]",
      "execution_count": 6,
      "outputs": []
    },
    {
      "metadata": {
        "trusted": true,
        "_uuid": "08969cf39c4a1d05d66227db32c3b2281e0e2da8",
        "collapsed": true
      },
      "cell_type": "code",
      "source": "(hist_Wfg3,bins_fg3) = plt.hist(dr.Wfgp3,bins=100,range=(min(list(dr.Lfgp3)+list(dr.Wfgp3)),max(list(dr.Lfgp3)+list(dr.Wfgp3))))[:-1]\nhist_Lfg3 = plt.hist(dr.Lfgp3,bins=100,range=(min(list(dr.Lfgp3)+list(dr.Wfgp3)),max(list(dr.Lfgp3)+list(dr.Wfgp3))))[0]",
      "execution_count": 7,
      "outputs": []
    },
    {
      "metadata": {
        "trusted": true,
        "_uuid": "6dd036d2c8c19d352c02f1fcf6bcbae31ef75917",
        "collapsed": true
      },
      "cell_type": "code",
      "source": "(hist_Wft,bins_ft) = plt.hist(dr.Wftp,bins=100,range=(min(list(dr.Lftp)+list(dr.Wftp)),max(list(dr.Lftp)+list(dr.Wftp))))[:-1]\nhist_Lft = plt.hist(dr.Lftp,bins=100,range=(min(list(dr.Lftp)+list(dr.Wftp)),max(list(dr.Lftp)+list(dr.Wftp))))[0]",
      "execution_count": 8,
      "outputs": []
    },
    {
      "metadata": {
        "trusted": true,
        "_uuid": "1fa6db19681f29efded940f212756d56befe9c7a",
        "collapsed": true
      },
      "cell_type": "code",
      "source": "(hist_Watop,bins_atop) = plt.hist(dr.Watop,bins=100,range=(min(list(dr.Latop)+list(dr.Watop)),max(list(dr.Latop)+list(dr.Watop))))[:-1]\nhist_Latop = plt.hist(dr.Latop,bins=100,range=(min(list(dr.Latop)+list(dr.Watop)),max(list(dr.Latop)+list(dr.Watop))))[0]",
      "execution_count": 9,
      "outputs": []
    },
    {
      "metadata": {
        "trusted": true,
        "_uuid": "8d56d6a37daa7a944033413d520929c52fe2227a",
        "collapsed": true
      },
      "cell_type": "code",
      "source": "prob_Wfg = hist_Wfg/(hist_Wfg+hist_Lfg)\nprob_Wfg3 = hist_Wfg3/(hist_Wfg3+hist_Lfg3)\nprob_Wft = hist_Wft/(hist_Wft+hist_Lft)\nprob_Wato = hist_Watop/(hist_Watop+hist_Latop)",
      "execution_count": 10,
      "outputs": []
    },
    {
      "metadata": {
        "trusted": true,
        "_uuid": "4dbf37e5141714a1fc9777f57d8ae4824a8fffa7",
        "collapsed": true
      },
      "cell_type": "code",
      "source": "plt.figure(1)\nplt.subplot(221)\nplt.plot(bins_fg[:-1],prob_Wfg,'.')\nplt.xlabel('field goal %')\nplt.ylabel('winning %')\n\nplt.subplot(222)\nplt.plot(bins_fg3[:-1],prob_Wfg3,'.')\nplt.xlabel('3 point %')\n\nplt.subplot(223)\nplt.plot(bins_ft[:-1],prob_Wft,'.')\nplt.xlabel('free throw %')\nplt.ylabel('winning %')\n\nplt.subplot(224)\nplt.plot(bins_atop[:-1],prob_Wato,'.')\nplt.xlabel('ass/to %')\n\nplt.tight_layout()",
      "execution_count": 11,
      "outputs": []
    },
    {
      "metadata": {
        "trusted": true,
        "_uuid": "0cb2bd7c36b8d426d3e63d0024bfcde53096e2db",
        "collapsed": true
      },
      "cell_type": "code",
      "source": "df_wins = dr.groupby('Wteam').size().reset_index()\ndf_wins = df_wins.rename(index=str, columns={\"Wteam\": \"Team_Id\",0:'Wins'})\n\ndf_loss = dr.groupby('Lteam').size().reset_index()\ndf_loss=df_loss.rename(index=str, columns={\"Lteam\": \"Team_Id\",0:'Loss'})",
      "execution_count": 12,
      "outputs": []
    },
    {
      "metadata": {
        "trusted": true,
        "_uuid": "7c74520590c65166aa80ce082b1b880f25550b3b",
        "collapsed": true
      },
      "cell_type": "code",
      "source": "df_percent = df_wins['Wins']/(df_wins['Wins']+df_loss['Loss'])*100\ndf_percent = df_percent.to_frame()\ndf_percent['Team_Id'] = df_wins['Team_Id']\ndf_percent=df_percent.rename(index=str, columns={0:'Win %'})",
      "execution_count": 13,
      "outputs": []
    },
    {
      "metadata": {
        "trusted": true,
        "_uuid": "e9f283ad2eb09b1eb26737c25c27e8f83a7ae497",
        "collapsed": true
      },
      "cell_type": "code",
      "source": "df_win = df_team.merge(df_wins,on='Team_Id').merge(df_loss,on='Team_Id').merge(df_percent,on='Team_Id').sort_values(by='Win %',ascending=False)",
      "execution_count": 14,
      "outputs": []
    },
    {
      "metadata": {
        "trusted": true,
        "_uuid": "e3daafbaca9c33cd0a65b2e33911cdcd08150194",
        "collapsed": true
      },
      "cell_type": "code",
      "source": "df_win[:10]",
      "execution_count": 15,
      "outputs": []
    },
    {
      "metadata": {
        "_uuid": "cedc7f1fa99414f761e2201f339a1822336db9e9"
      },
      "cell_type": "markdown",
      "source": "Prepare input for Logistic Regression \nUse differences in 11 basketball stats and 1 extra meteic: elo rating"
    },
    {
      "metadata": {
        "_uuid": "68027fcc7387a73f5c8815eb22f09777aa0fbb8a"
      },
      "cell_type": "markdown",
      "source": "Calculate Elo"
    },
    {
      "metadata": {
        "trusted": true,
        "collapsed": true,
        "_uuid": "2b0bfecd1590a220fce0ab2871c2577518b9c814"
      },
      "cell_type": "code",
      "source": "base_elo = 1500\nelo_width = 400",
      "execution_count": 16,
      "outputs": []
    },
    {
      "metadata": {
        "trusted": true,
        "collapsed": true,
        "_uuid": "be627319f7abdffab233f4cb760a5cac446381a4"
      },
      "cell_type": "code",
      "source": "# Define functions \ndef cal_elo(win_elo_before, lose_elo_before):\n    expect_a = 1.0/(1+10**((lose_elo_before - win_elo_before)/elo_width))\n    if win_elo_before < 2100:\n        k_factor = 32\n    elif win_elo_before >= 2100 and win_elo_before < 2400:\n        k_factor = 24\n    else:\n        k_factor = 16\n    win_elo_after = round(win_elo_before + (k_factor * (1 - expect_a)))\n    diff_elo = win_elo_after-win_elo_before\n    lose_elo_after = lose_elo_before-diff_elo\n    return win_elo_after, lose_elo_after\n\ndef update_stats(season,team,stat,value):\n    if team not in season_stat[season]:\n        season_stat[season][team] = {}\n    if stat not in season_stat[season][team]:\n        season_stat[season][team][stat] = [value]\n    else:\n        season_stat[season][team][stat].append(value)",
      "execution_count": 17,
      "outputs": []
    },
    {
      "metadata": {
        "trusted": true,
        "_uuid": "aece9fff71060aba5436ad3d060c1be8e648589b",
        "collapsed": true
      },
      "cell_type": "code",
      "source": "x=[]\ny=[]\nseason_stat = {}\ndf_team['elo'] = base_elo\ncurrent_season = dr.at[0, 'Season']\nseason_stat[current_season] = {}\nfeatures = ['fgp','fga','fgp3','fga3','ftp','fta','atop','or','dr','stl','blk'] ",
      "execution_count": 18,
      "outputs": []
    },
    {
      "metadata": {
        "trusted": true,
        "_uuid": "d5861381ab0898f80a2c62c69212a7acb9018124",
        "collapsed": true
      },
      "cell_type": "code",
      "source": "for index, row in dr.iterrows():\n    if row['Season'] != current_season:\n        \"\"\"After each season, regress toward the base_elo to make ratings more close \n        in the start of each season\n        \"\"\"\n        df_team['elo'] -= (df_team['elo']-base_elo)/3\n        current_season = row['Season']\n        season_stat[current_season] = {}\n    # Calculate and update elo for Wteam and Lteam\n    win_team = row['Wteam']\n    lose_team = row['Lteam']\n    win_elo_before = df_team.at[win_team-1101,'elo']\n    lose_elo_before = df_team.at[lose_team-1101,'elo']\n    win_elo,lose_elo = cal_elo(win_elo_before, lose_elo_before) \n    df_team.at[win_team-1101,'elo'] = win_elo\n    df_team.at[lose_team-1101,'elo'] = lose_elo\n    # Give extra 100 elo rating to the home team\n    if row.Wloc == 'H':\n        win_elo_before += 100\n    elif row.Wloc == 'A':\n        lose_elo_before += 100\n    \n    #collect features for Wteam and Lteam\n    x_temp = [win_elo_before-lose_elo_before]\n    skip = False\n    for feature in features:\n        try:\n            W_value = np.mean(season_stat[current_season][win_team][feature])\n            L_value = np.mean(season_stat[current_season][lose_team][feature])\n            x_temp.append(W_value-L_value)\n        except:\n            skip = True\n        update_stats(current_season,win_team,feature,row['W'+feature])\n        update_stats(current_season,lose_team,feature,row['L'+feature])\n    # If the two teams have played at least one game in the season, we collect their average stats\n    if not skip:\n        if random.random() > 0.5:\n            x.append(x_temp)\n            y.append(1) \n        #if index<len(dr)/2:\n           \n        else:\n            x.append(list(-np.array(x_temp)))\n            y.append(0)                ",
      "execution_count": 19,
      "outputs": []
    },
    {
      "metadata": {
        "trusted": true,
        "scrolled": true,
        "_uuid": "66a72f5ca65b163037aefc5ab0c5d4e51ba28ee2",
        "collapsed": true
      },
      "cell_type": "code",
      "source": "df_team.sort_values(by='elo',ascending=False)",
      "execution_count": 20,
      "outputs": []
    },
    {
      "metadata": {
        "trusted": true,
        "collapsed": true,
        "_uuid": "f003eeae9f38cca03900363ad96e6eb7b2dca277"
      },
      "cell_type": "code",
      "source": "#columns = ['1elo','1fgp','1fga','1fgp3','1fga3','1ftp','1fta','1or','1dr','1atop','1stl','1blk','2elo','2fgp','2fga','2fgp3','2fga3','2ftp','2fta','2or','2dr','2atop','2stl','2blk']\n#df_train = pd.DataFrame(x,columns=columns)",
      "execution_count": 193,
      "outputs": []
    },
    {
      "metadata": {
        "trusted": true,
        "collapsed": true,
        "_uuid": "9c2bf92de4f0cbb65619a720eddd782bb14801c2"
      },
      "cell_type": "code",
      "source": "#features = ['diff_fgp','diff_fga','diff_fgp3','diff_fga3','diff_ftp','diff_fta','diff_atop','diff_or','diff_dr','diff_stl','diff_blk','diff_elo']\n#features = ['Wfgp','Wfga','Wfgp3','Wfga3','Wftp','Wfta','Wor','Wdr','Watop','Wstl','Wblk','Lfgp','Lfga','Lfgp3','Lfga3','Lftp','Lfta','Lor','Ldr','Latop','Lstl','Lblk']\n#features_new = ['1fgp','1fga','1fgp3','1fga3','1ftp','1fta','1or','1dr','1atop','1stl','1blk','2fgp','2fga','2fgp3','2fga3','2ftp','2fta','2or','2dr','2atop','2stl','2blk']",
      "execution_count": 60,
      "outputs": []
    },
    {
      "metadata": {
        "trusted": true,
        "_uuid": "5a16e65968f185022237201e7e74f2a5f1f1ebba",
        "collapsed": true
      },
      "cell_type": "code",
      "source": "#xwin = xwin.assign(y=[1]*len(xwin))\n#xlose = xlose.assign(y=[0]*len(xlose))",
      "execution_count": 146,
      "outputs": []
    },
    {
      "metadata": {
        "trusted": true,
        "_uuid": "2d52aa632e9288c43ec3d52095dbf51ec3d6ae46",
        "collapsed": true
      },
      "cell_type": "code",
      "source": "#x = pd.concat((xwin,xlose)).reset_index(drop=True)",
      "execution_count": 147,
      "outputs": []
    },
    {
      "metadata": {
        "trusted": true,
        "_uuid": "56f43baf3bd5c9b05926ef3b927e89635422d1f5",
        "collapsed": true
      },
      "cell_type": "code",
      "source": "x_train, x_test, y_train, y_test = train_test_split(np.array(x), np.array(y), test_size=0.2)",
      "execution_count": 21,
      "outputs": []
    },
    {
      "metadata": {
        "trusted": true,
        "_uuid": "fb0a15b7bc446f74dfc85da92f6f1a3fc600176c",
        "collapsed": true
      },
      "cell_type": "code",
      "source": "x_train.shape, y_train.shape, x_test.shape, y_test.shape",
      "execution_count": 22,
      "outputs": []
    },
    {
      "metadata": {
        "trusted": true,
        "_uuid": "790b60c6a2ca9a1cb0f6a0a4e4d9016ca1dfcdb3",
        "collapsed": true
      },
      "cell_type": "code",
      "source": "# Logistic Regression\nlogreg = LogisticRegression()\nlogreg.fit(x_train,y_train)\nacc_logreg = round(logreg.score(x_train, y_train) * 100, 2)\nacc_cv = round(logreg.score(x_test, y_test) * 100, 2)\nprint(acc_logreg,acc_cv)",
      "execution_count": 23,
      "outputs": []
    },
    {
      "metadata": {
        "trusted": true,
        "collapsed": true,
        "_uuid": "7c17c94ad2f54f3f59d5dbcd632d72fbb388f217"
      },
      "cell_type": "markdown",
      "source": "Use the average fgp,fgp3,ftp,atop,tr as the input for prediction"
    },
    {
      "metadata": {
        "trusted": true,
        "_uuid": "6f209e1893a1690d5bd1ffc4fd5f043fe58fb7a0",
        "collapsed": true
      },
      "cell_type": "code",
      "source": "#mean_x = []\n#for index, row in df_team.iterrows():\n#    x_temp = [row['Team_Id']]\n#    for f in imp_feature:\n#        x_temp.append(np.mean(dr_2017[dr_2017['Wteam'] == row['Team_Id']]['W'+f].append(dr_2017[dr_2017['Lteam'] == row['Team_Id']]['L'+f])))\n#    x_temp.append(row['elo'])\n#    mean_x.append(x_temp)",
      "execution_count": 74,
      "outputs": []
    },
    {
      "metadata": {
        "trusted": true,
        "_uuid": "dd4fc4f316015ce5021d3098ea29059d49ff0823",
        "collapsed": true
      },
      "cell_type": "code",
      "source": "sub = pd.read_csv(\"../input/SampleSubmission.csv\")\nsub[\"Team1\"] = sub[\"Id\"].apply(lambda x: int(x.split(\"_\")[1]))\nsub[\"Team2\"] = sub[\"Id\"].apply(lambda x: int(x.split(\"_\")[2]))",
      "execution_count": 24,
      "outputs": []
    },
    {
      "metadata": {
        "trusted": true,
        "_uuid": "b4fd1869ad49f9fcba171ea4e2d135770e799039",
        "collapsed": true
      },
      "cell_type": "code",
      "source": "x_input = []\nfor index, row in sub.iterrows():\n    sub.at[index,'Team_Name1'] = df_team.at[row.Team1-1101,'Team_Name']\n    sub.at[index,'Team_Name2'] = df_team.at[row.Team2-1101,'Team_Name']\n    x_temp = [df_team.at[row.Team1-1101,'elo']-df_team.at[row.Team2-1101,'elo']]\n    for feature in features:\n        x_temp.append(np.mean(season_stat[2017][row.Team1][feature])-np.mean(season_stat[2017][row.Team2][feature]))\n    x_input.append(x_temp)",
      "execution_count": 25,
      "outputs": []
    },
    {
      "metadata": {
        "trusted": true,
        "_uuid": "f0fc060b782783326ed0c68f97427e5ec61ff6ed",
        "collapsed": true
      },
      "cell_type": "code",
      "source": "sub['Pred']=logreg.predict_proba(np.array(x_input))[:,1]",
      "execution_count": 26,
      "outputs": []
    },
    {
      "metadata": {
        "trusted": true,
        "_uuid": "4f235125fd7f13b253768711992904ac0f0795c5",
        "collapsed": true
      },
      "cell_type": "code",
      "source": "sub[:10]",
      "execution_count": 27,
      "outputs": []
    },
    {
      "metadata": {
        "trusted": true,
        "collapsed": true,
        "_uuid": "52f2e2724ec324f4f1457e0856d6762a86b9ef03"
      },
      "cell_type": "code",
      "source": "sub = sub[['Id','Pred']]\nsub.to_csv(\"submission.csv\", index=False)",
      "execution_count": 28,
      "outputs": []
    }
  ],
  "metadata": {
    "kernelspec": {
      "display_name": "Python 3",
      "language": "python",
      "name": "python3"
    },
    "language_info": {
      "name": "python",
      "version": "3.6.5",
      "mimetype": "text/x-python",
      "codemirror_mode": {
        "name": "ipython",
        "version": 3
      },
      "pygments_lexer": "ipython3",
      "nbconvert_exporter": "python",
      "file_extension": ".py"
    }
  },
  "nbformat": 4,
  "nbformat_minor": 1
}